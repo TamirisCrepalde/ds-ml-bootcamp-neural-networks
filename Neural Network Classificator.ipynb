{
 "cells": [
  {
   "cell_type": "markdown",
   "id": "3eb7b8dc-1d5e-40d0-84b9-286afc6c8b1c",
   "metadata": {},
   "source": [
    "# Keras API Project Exercise\n",
    "\n",
    "\n",
    "This notebook is from an exercise from the Python for Data Science and Machine Learning Bootcamp course (https://www.udemy.com/course/python-for-data-science-and-machine-learning-bootcamp/). It contains some different approaches from the exercise.\n",
    "\n",
    "\n",
    "## The Data\n",
    "\n",
    "We will be using a subset of the LendingClub DataSet obtained from Kaggle: https://www.kaggle.com/wordsforthewise/lending-club. The dataset used in this project have some modifications to explore more featuring engineering techniques.\n",
    "\n",
    "LendingClub is a US peer-to-peer lending company, headquartered in San Francisco, California.[3] It was the first peer-to-peer lender to register its offerings as securities with the Securities and Exchange Commission (SEC), and to offer loan trading on a secondary market. LendingClub is the world's largest peer-to-peer lending platform.\n",
    "\n",
    "### Our Goal\n",
    "\n",
    "Given historical data on loans given out with information on whether or not the borrower defaulted (charge-off), we'll try to build a model that can predict wether or nor a borrower will pay back their loan. This way in the future when we get a new potential customer we can assess whether or not they are likely to pay back the loan.\n",
    "\n",
    "The \"loan_status\" column contains our label.\n",
    "\n",
    "### Data Overview"
   ]
  },
  {
   "cell_type": "markdown",
   "id": "8d8466dc-ed13-4983-8302-c6fa247d44cc",
   "metadata": {},
   "source": [
    "-----\n",
    "There are many LendingClub data sets on Kaggle. Here is the information on this particular data set:\n",
    "\n",
    "<table border=\"1\" class=\"dataframe\">\n",
    "  <thead>\n",
    "    <tr style=\"text-align: right;\">\n",
    "      <th></th>\n",
    "      <th>LoanStatNew</th>\n",
    "      <th>Description</th>\n",
    "    </tr>\n",
    "  </thead>\n",
    "  <tbody>\n",
    "    <tr>\n",
    "      <th>0</th>\n",
    "      <td>loan_amnt</td>\n",
    "      <td>The listed amount of the loan applied for by the borrower. If at some point in time, the credit department reduces the loan amount, then it will be reflected in this value.</td>\n",
    "    </tr>\n",
    "    <tr>\n",
    "      <th>1</th>\n",
    "      <td>term</td>\n",
    "      <td>The number of payments on the loan. Values are in months and can be either 36 or 60.</td>\n",
    "    </tr>\n",
    "    <tr>\n",
    "      <th>2</th>\n",
    "      <td>int_rate</td>\n",
    "      <td>Interest Rate on the loan</td>\n",
    "    </tr>\n",
    "    <tr>\n",
    "      <th>3</th>\n",
    "      <td>installment</td>\n",
    "      <td>The monthly payment owed by the borrower if the loan originates.</td>\n",
    "    </tr>\n",
    "    <tr>\n",
    "      <th>4</th>\n",
    "      <td>grade</td>\n",
    "      <td>LC assigned loan grade</td>\n",
    "    </tr>\n",
    "    <tr>\n",
    "      <th>5</th>\n",
    "      <td>sub_grade</td>\n",
    "      <td>LC assigned loan subgrade</td>\n",
    "    </tr>\n",
    "    <tr>\n",
    "      <th>6</th>\n",
    "      <td>emp_title</td>\n",
    "      <td>The job title supplied by the Borrower when applying for the loan.*</td>\n",
    "    </tr>\n",
    "    <tr>\n",
    "      <th>7</th>\n",
    "      <td>emp_length</td>\n",
    "      <td>Employment length in years. Possible values are between 0 and 10 where 0 means less than one year and 10 means ten or more years.</td>\n",
    "    </tr>\n",
    "    <tr>\n",
    "      <th>8</th>\n",
    "      <td>home_ownership</td>\n",
    "      <td>The home ownership status provided by the borrower during registration or obtained from the credit report. Our values are: RENT, OWN, MORTGAGE, OTHER</td>\n",
    "    </tr>\n",
    "    <tr>\n",
    "      <th>9</th>\n",
    "      <td>annual_inc</td>\n",
    "      <td>The self-reported annual income provided by the borrower during registration.</td>\n",
    "    </tr>\n",
    "    <tr>\n",
    "      <th>10</th>\n",
    "      <td>verification_status</td>\n",
    "      <td>Indicates if income was verified by LC, not verified, or if the income source was verified</td>\n",
    "    </tr>\n",
    "    <tr>\n",
    "      <th>11</th>\n",
    "      <td>issue_d</td>\n",
    "      <td>The month which the loan was funded</td>\n",
    "    </tr>\n",
    "    <tr>\n",
    "      <th>12</th>\n",
    "      <td>loan_status</td>\n",
    "      <td>Current status of the loan</td>\n",
    "    </tr>\n",
    "    <tr>\n",
    "      <th>13</th>\n",
    "      <td>purpose</td>\n",
    "      <td>A category provided by the borrower for the loan request.</td>\n",
    "    </tr>\n",
    "    <tr>\n",
    "      <th>14</th>\n",
    "      <td>title</td>\n",
    "      <td>The loan title provided by the borrower</td>\n",
    "    </tr>\n",
    "    <tr>\n",
    "      <th>15</th>\n",
    "      <td>zip_code</td>\n",
    "      <td>The first 3 numbers of the zip code provided by the borrower in the loan application.</td>\n",
    "    </tr>\n",
    "    <tr>\n",
    "      <th>16</th>\n",
    "      <td>addr_state</td>\n",
    "      <td>The state provided by the borrower in the loan application</td>\n",
    "    </tr>\n",
    "    <tr>\n",
    "      <th>17</th>\n",
    "      <td>dti</td>\n",
    "      <td>A ratio calculated using the borrower’s total monthly debt payments on the total debt obligations, excluding mortgage and the requested LC loan, divided by the borrower’s self-reported monthly income.</td>\n",
    "    </tr>\n",
    "    <tr>\n",
    "      <th>18</th>\n",
    "      <td>earliest_cr_line</td>\n",
    "      <td>The month the borrower's earliest reported credit line was opened</td>\n",
    "    </tr>\n",
    "    <tr>\n",
    "      <th>19</th>\n",
    "      <td>open_acc</td>\n",
    "      <td>The number of open credit lines in the borrower's credit file.</td>\n",
    "    </tr>\n",
    "    <tr>\n",
    "      <th>20</th>\n",
    "      <td>pub_rec</td>\n",
    "      <td>Number of derogatory public records</td>\n",
    "    </tr>\n",
    "    <tr>\n",
    "      <th>21</th>\n",
    "      <td>revol_bal</td>\n",
    "      <td>Total credit revolving balance</td>\n",
    "    </tr>\n",
    "    <tr>\n",
    "      <th>22</th>\n",
    "      <td>revol_util</td>\n",
    "      <td>Revolving line utilization rate, or the amount of credit the borrower is using relative to all available revolving credit.</td>\n",
    "    </tr>\n",
    "    <tr>\n",
    "      <th>23</th>\n",
    "      <td>total_acc</td>\n",
    "      <td>The total number of credit lines currently in the borrower's credit file</td>\n",
    "    </tr>\n",
    "    <tr>\n",
    "      <th>24</th>\n",
    "      <td>initial_list_status</td>\n",
    "      <td>The initial listing status of the loan. Possible values are – W, F</td>\n",
    "    </tr>\n",
    "    <tr>\n",
    "      <th>25</th>\n",
    "      <td>application_type</td>\n",
    "      <td>Indicates whether the loan is an individual application or a joint application with two co-borrowers</td>\n",
    "    </tr>\n",
    "    <tr>\n",
    "      <th>26</th>\n",
    "      <td>mort_acc</td>\n",
    "      <td>Number of mortgage accounts.</td>\n",
    "    </tr>\n",
    "    <tr>\n",
    "      <th>27</th>\n",
    "      <td>pub_rec_bankruptcies</td>\n",
    "      <td>Number of public record bankruptcies</td>\n",
    "    </tr>\n",
    "  </tbody>\n",
    "</table>\n",
    "\n",
    "---\n",
    "----"
   ]
  },
  {
   "cell_type": "markdown",
   "id": "7a4d5cc1-447d-4561-8f2c-1c8d5cbc9f30",
   "metadata": {},
   "source": [
    "# Importing Libraries"
   ]
  },
  {
   "cell_type": "code",
   "execution_count": 1,
   "id": "f588a293-6e03-4275-851f-0927e894f531",
   "metadata": {},
   "outputs": [],
   "source": [
    "import pandas as pd\n",
    "import numpy as np\n",
    "import matplotlib.pyplot as plt\n",
    "import seaborn as sns\n",
    "\n",
    "%matplotlib inline"
   ]
  },
  {
   "cell_type": "markdown",
   "id": "19d0310b-9a2c-4975-9241-b67350a5ab13",
   "metadata": {},
   "source": [
    "# Looking Data Info"
   ]
  },
  {
   "cell_type": "code",
   "execution_count": 2,
   "id": "feeb9b87-7e4a-47f2-8a4c-ca5e10151170",
   "metadata": {},
   "outputs": [],
   "source": [
    "data_info = pd.read_csv('../DATA/lending_club_info.csv',index_col='LoanStatNew')"
   ]
  },
  {
   "cell_type": "code",
   "execution_count": 3,
   "id": "88b25c71-14bb-4517-99a7-266977153e40",
   "metadata": {},
   "outputs": [
    {
     "name": "stdout",
     "output_type": "stream",
     "text": [
      "Revolving line utilization rate, or the amount of credit the borrower is using relative to all available revolving credit.\n"
     ]
    }
   ],
   "source": [
    "print(data_info.loc['revol_util']['Description'])"
   ]
  },
  {
   "cell_type": "code",
   "execution_count": 4,
   "id": "91d3922b-b061-40b4-a816-da12885551bc",
   "metadata": {},
   "outputs": [],
   "source": [
    "def feat_info(col_name):\n",
    "    print(data_info.loc[col_name]['Description'])"
   ]
  },
  {
   "cell_type": "code",
   "execution_count": 5,
   "id": "2bf031d2-5060-49f2-bc80-b9054c5c8a6b",
   "metadata": {},
   "outputs": [
    {
     "name": "stdout",
     "output_type": "stream",
     "text": [
      "Number of mortgage accounts.\n"
     ]
    }
   ],
   "source": [
    "feat_info('mort_acc')"
   ]
  },
  {
   "cell_type": "markdown",
   "id": "2bbfb1a6-4f66-405f-8de0-bb3699885580",
   "metadata": {},
   "source": [
    "# Importing Data"
   ]
  },
  {
   "cell_type": "code",
   "execution_count": 6,
   "id": "521868ba-22a5-47df-acea-220c8a2c355a",
   "metadata": {},
   "outputs": [],
   "source": [
    "df = pd.read_csv('../DATA/lending_club_loan_two.csv')"
   ]
  },
  {
   "cell_type": "code",
   "execution_count": 7,
   "id": "6f1547fc-8e4e-4019-9f74-8294542d0af4",
   "metadata": {},
   "outputs": [
    {
     "data": {
      "text/html": [
       "<div>\n",
       "<style scoped>\n",
       "    .dataframe tbody tr th:only-of-type {\n",
       "        vertical-align: middle;\n",
       "    }\n",
       "\n",
       "    .dataframe tbody tr th {\n",
       "        vertical-align: top;\n",
       "    }\n",
       "\n",
       "    .dataframe thead th {\n",
       "        text-align: right;\n",
       "    }\n",
       "</style>\n",
       "<table border=\"1\" class=\"dataframe\">\n",
       "  <thead>\n",
       "    <tr style=\"text-align: right;\">\n",
       "      <th></th>\n",
       "      <th>loan_amnt</th>\n",
       "      <th>term</th>\n",
       "      <th>int_rate</th>\n",
       "      <th>installment</th>\n",
       "      <th>grade</th>\n",
       "      <th>sub_grade</th>\n",
       "      <th>emp_title</th>\n",
       "      <th>emp_length</th>\n",
       "      <th>home_ownership</th>\n",
       "      <th>annual_inc</th>\n",
       "      <th>...</th>\n",
       "      <th>open_acc</th>\n",
       "      <th>pub_rec</th>\n",
       "      <th>revol_bal</th>\n",
       "      <th>revol_util</th>\n",
       "      <th>total_acc</th>\n",
       "      <th>initial_list_status</th>\n",
       "      <th>application_type</th>\n",
       "      <th>mort_acc</th>\n",
       "      <th>pub_rec_bankruptcies</th>\n",
       "      <th>address</th>\n",
       "    </tr>\n",
       "  </thead>\n",
       "  <tbody>\n",
       "    <tr>\n",
       "      <th>0</th>\n",
       "      <td>10000.0</td>\n",
       "      <td>36 months</td>\n",
       "      <td>11.44</td>\n",
       "      <td>329.48</td>\n",
       "      <td>B</td>\n",
       "      <td>B4</td>\n",
       "      <td>Marketing</td>\n",
       "      <td>10+ years</td>\n",
       "      <td>RENT</td>\n",
       "      <td>117000.0</td>\n",
       "      <td>...</td>\n",
       "      <td>16.0</td>\n",
       "      <td>0.0</td>\n",
       "      <td>36369.0</td>\n",
       "      <td>41.8</td>\n",
       "      <td>25.0</td>\n",
       "      <td>w</td>\n",
       "      <td>INDIVIDUAL</td>\n",
       "      <td>0.0</td>\n",
       "      <td>0.0</td>\n",
       "      <td>0174 Michelle Gateway\\nMendozaberg, OK 22690</td>\n",
       "    </tr>\n",
       "    <tr>\n",
       "      <th>1</th>\n",
       "      <td>8000.0</td>\n",
       "      <td>36 months</td>\n",
       "      <td>11.99</td>\n",
       "      <td>265.68</td>\n",
       "      <td>B</td>\n",
       "      <td>B5</td>\n",
       "      <td>Credit analyst</td>\n",
       "      <td>4 years</td>\n",
       "      <td>MORTGAGE</td>\n",
       "      <td>65000.0</td>\n",
       "      <td>...</td>\n",
       "      <td>17.0</td>\n",
       "      <td>0.0</td>\n",
       "      <td>20131.0</td>\n",
       "      <td>53.3</td>\n",
       "      <td>27.0</td>\n",
       "      <td>f</td>\n",
       "      <td>INDIVIDUAL</td>\n",
       "      <td>3.0</td>\n",
       "      <td>0.0</td>\n",
       "      <td>1076 Carney Fort Apt. 347\\nLoganmouth, SD 05113</td>\n",
       "    </tr>\n",
       "    <tr>\n",
       "      <th>2</th>\n",
       "      <td>15600.0</td>\n",
       "      <td>36 months</td>\n",
       "      <td>10.49</td>\n",
       "      <td>506.97</td>\n",
       "      <td>B</td>\n",
       "      <td>B3</td>\n",
       "      <td>Statistician</td>\n",
       "      <td>&lt; 1 year</td>\n",
       "      <td>RENT</td>\n",
       "      <td>43057.0</td>\n",
       "      <td>...</td>\n",
       "      <td>13.0</td>\n",
       "      <td>0.0</td>\n",
       "      <td>11987.0</td>\n",
       "      <td>92.2</td>\n",
       "      <td>26.0</td>\n",
       "      <td>f</td>\n",
       "      <td>INDIVIDUAL</td>\n",
       "      <td>0.0</td>\n",
       "      <td>0.0</td>\n",
       "      <td>87025 Mark Dale Apt. 269\\nNew Sabrina, WV 05113</td>\n",
       "    </tr>\n",
       "    <tr>\n",
       "      <th>3</th>\n",
       "      <td>7200.0</td>\n",
       "      <td>36 months</td>\n",
       "      <td>6.49</td>\n",
       "      <td>220.65</td>\n",
       "      <td>A</td>\n",
       "      <td>A2</td>\n",
       "      <td>Client Advocate</td>\n",
       "      <td>6 years</td>\n",
       "      <td>RENT</td>\n",
       "      <td>54000.0</td>\n",
       "      <td>...</td>\n",
       "      <td>6.0</td>\n",
       "      <td>0.0</td>\n",
       "      <td>5472.0</td>\n",
       "      <td>21.5</td>\n",
       "      <td>13.0</td>\n",
       "      <td>f</td>\n",
       "      <td>INDIVIDUAL</td>\n",
       "      <td>0.0</td>\n",
       "      <td>0.0</td>\n",
       "      <td>823 Reid Ford\\nDelacruzside, MA 00813</td>\n",
       "    </tr>\n",
       "    <tr>\n",
       "      <th>4</th>\n",
       "      <td>24375.0</td>\n",
       "      <td>60 months</td>\n",
       "      <td>17.27</td>\n",
       "      <td>609.33</td>\n",
       "      <td>C</td>\n",
       "      <td>C5</td>\n",
       "      <td>Destiny Management Inc.</td>\n",
       "      <td>9 years</td>\n",
       "      <td>MORTGAGE</td>\n",
       "      <td>55000.0</td>\n",
       "      <td>...</td>\n",
       "      <td>13.0</td>\n",
       "      <td>0.0</td>\n",
       "      <td>24584.0</td>\n",
       "      <td>69.8</td>\n",
       "      <td>43.0</td>\n",
       "      <td>f</td>\n",
       "      <td>INDIVIDUAL</td>\n",
       "      <td>1.0</td>\n",
       "      <td>0.0</td>\n",
       "      <td>679 Luna Roads\\nGreggshire, VA 11650</td>\n",
       "    </tr>\n",
       "  </tbody>\n",
       "</table>\n",
       "<p>5 rows × 27 columns</p>\n",
       "</div>"
      ],
      "text/plain": [
       "   loan_amnt        term  int_rate  installment grade sub_grade  \\\n",
       "0    10000.0   36 months     11.44       329.48     B        B4   \n",
       "1     8000.0   36 months     11.99       265.68     B        B5   \n",
       "2    15600.0   36 months     10.49       506.97     B        B3   \n",
       "3     7200.0   36 months      6.49       220.65     A        A2   \n",
       "4    24375.0   60 months     17.27       609.33     C        C5   \n",
       "\n",
       "                 emp_title emp_length home_ownership  annual_inc  ...  \\\n",
       "0                Marketing  10+ years           RENT    117000.0  ...   \n",
       "1          Credit analyst     4 years       MORTGAGE     65000.0  ...   \n",
       "2             Statistician   < 1 year           RENT     43057.0  ...   \n",
       "3          Client Advocate    6 years           RENT     54000.0  ...   \n",
       "4  Destiny Management Inc.    9 years       MORTGAGE     55000.0  ...   \n",
       "\n",
       "  open_acc pub_rec revol_bal revol_util total_acc  initial_list_status  \\\n",
       "0     16.0     0.0   36369.0       41.8      25.0                    w   \n",
       "1     17.0     0.0   20131.0       53.3      27.0                    f   \n",
       "2     13.0     0.0   11987.0       92.2      26.0                    f   \n",
       "3      6.0     0.0    5472.0       21.5      13.0                    f   \n",
       "4     13.0     0.0   24584.0       69.8      43.0                    f   \n",
       "\n",
       "  application_type  mort_acc  pub_rec_bankruptcies  \\\n",
       "0       INDIVIDUAL       0.0                   0.0   \n",
       "1       INDIVIDUAL       3.0                   0.0   \n",
       "2       INDIVIDUAL       0.0                   0.0   \n",
       "3       INDIVIDUAL       0.0                   0.0   \n",
       "4       INDIVIDUAL       1.0                   0.0   \n",
       "\n",
       "                                           address  \n",
       "0     0174 Michelle Gateway\\nMendozaberg, OK 22690  \n",
       "1  1076 Carney Fort Apt. 347\\nLoganmouth, SD 05113  \n",
       "2  87025 Mark Dale Apt. 269\\nNew Sabrina, WV 05113  \n",
       "3            823 Reid Ford\\nDelacruzside, MA 00813  \n",
       "4             679 Luna Roads\\nGreggshire, VA 11650  \n",
       "\n",
       "[5 rows x 27 columns]"
      ]
     },
     "execution_count": 7,
     "metadata": {},
     "output_type": "execute_result"
    }
   ],
   "source": [
    "df.head()"
   ]
  },
  {
   "cell_type": "markdown",
   "id": "7b461b26-4b8a-4ae7-a0b2-d54b50875cdb",
   "metadata": {},
   "source": [
    "# EDA"
   ]
  },
  {
   "cell_type": "code",
   "execution_count": 8,
   "id": "523d07fa-c99a-4ee1-b8f7-929f742860af",
   "metadata": {},
   "outputs": [
    {
     "name": "stdout",
     "output_type": "stream",
     "text": [
      "<class 'pandas.core.frame.DataFrame'>\n",
      "RangeIndex: 396030 entries, 0 to 396029\n",
      "Data columns (total 27 columns):\n",
      " #   Column                Non-Null Count   Dtype  \n",
      "---  ------                --------------   -----  \n",
      " 0   loan_amnt             396030 non-null  float64\n",
      " 1   term                  396030 non-null  object \n",
      " 2   int_rate              396030 non-null  float64\n",
      " 3   installment           396030 non-null  float64\n",
      " 4   grade                 396030 non-null  object \n",
      " 5   sub_grade             396030 non-null  object \n",
      " 6   emp_title             373103 non-null  object \n",
      " 7   emp_length            377729 non-null  object \n",
      " 8   home_ownership        396030 non-null  object \n",
      " 9   annual_inc            396030 non-null  float64\n",
      " 10  verification_status   396030 non-null  object \n",
      " 11  issue_d               396030 non-null  object \n",
      " 12  loan_status           396030 non-null  object \n",
      " 13  purpose               396030 non-null  object \n",
      " 14  title                 394275 non-null  object \n",
      " 15  dti                   396030 non-null  float64\n",
      " 16  earliest_cr_line      396030 non-null  object \n",
      " 17  open_acc              396030 non-null  float64\n",
      " 18  pub_rec               396030 non-null  float64\n",
      " 19  revol_bal             396030 non-null  float64\n",
      " 20  revol_util            395754 non-null  float64\n",
      " 21  total_acc             396030 non-null  float64\n",
      " 22  initial_list_status   396030 non-null  object \n",
      " 23  application_type      396030 non-null  object \n",
      " 24  mort_acc              358235 non-null  float64\n",
      " 25  pub_rec_bankruptcies  395495 non-null  float64\n",
      " 26  address               396030 non-null  object \n",
      "dtypes: float64(12), object(15)\n",
      "memory usage: 81.6+ MB\n"
     ]
    }
   ],
   "source": [
    "df.info()"
   ]
  },
  {
   "cell_type": "markdown",
   "id": "72a24fbd-8d3b-48a0-8114-3cd3bd31a5f3",
   "metadata": {},
   "source": [
    "### Looking at numerical values"
   ]
  },
  {
   "cell_type": "code",
   "execution_count": 9,
   "id": "b22913a1-e8d1-439a-9824-467f73b2a103",
   "metadata": {},
   "outputs": [],
   "source": [
    "df_info = pd.DataFrame({'nomes' : df.columns, 'tipos' : df.dtypes,\n",
    "                           'NA #': df.isna().sum(), 'NA %' : (df.isna().sum() / df.shape[0]) * 100})"
   ]
  },
  {
   "cell_type": "code",
   "execution_count": 10,
   "id": "c1574a02-1c18-4fff-b9a5-2e172de33365",
   "metadata": {},
   "outputs": [
    {
     "data": {
      "text/html": [
       "<div>\n",
       "<style scoped>\n",
       "    .dataframe tbody tr th:only-of-type {\n",
       "        vertical-align: middle;\n",
       "    }\n",
       "\n",
       "    .dataframe tbody tr th {\n",
       "        vertical-align: top;\n",
       "    }\n",
       "\n",
       "    .dataframe thead th {\n",
       "        text-align: right;\n",
       "    }\n",
       "</style>\n",
       "<table border=\"1\" class=\"dataframe\">\n",
       "  <thead>\n",
       "    <tr style=\"text-align: right;\">\n",
       "      <th></th>\n",
       "      <th>nomes</th>\n",
       "      <th>tipos</th>\n",
       "      <th>NA #</th>\n",
       "      <th>NA %</th>\n",
       "    </tr>\n",
       "  </thead>\n",
       "  <tbody>\n",
       "    <tr>\n",
       "      <th>loan_amnt</th>\n",
       "      <td>loan_amnt</td>\n",
       "      <td>float64</td>\n",
       "      <td>0</td>\n",
       "      <td>0.000000</td>\n",
       "    </tr>\n",
       "    <tr>\n",
       "      <th>int_rate</th>\n",
       "      <td>int_rate</td>\n",
       "      <td>float64</td>\n",
       "      <td>0</td>\n",
       "      <td>0.000000</td>\n",
       "    </tr>\n",
       "    <tr>\n",
       "      <th>installment</th>\n",
       "      <td>installment</td>\n",
       "      <td>float64</td>\n",
       "      <td>0</td>\n",
       "      <td>0.000000</td>\n",
       "    </tr>\n",
       "    <tr>\n",
       "      <th>annual_inc</th>\n",
       "      <td>annual_inc</td>\n",
       "      <td>float64</td>\n",
       "      <td>0</td>\n",
       "      <td>0.000000</td>\n",
       "    </tr>\n",
       "    <tr>\n",
       "      <th>dti</th>\n",
       "      <td>dti</td>\n",
       "      <td>float64</td>\n",
       "      <td>0</td>\n",
       "      <td>0.000000</td>\n",
       "    </tr>\n",
       "    <tr>\n",
       "      <th>open_acc</th>\n",
       "      <td>open_acc</td>\n",
       "      <td>float64</td>\n",
       "      <td>0</td>\n",
       "      <td>0.000000</td>\n",
       "    </tr>\n",
       "    <tr>\n",
       "      <th>pub_rec</th>\n",
       "      <td>pub_rec</td>\n",
       "      <td>float64</td>\n",
       "      <td>0</td>\n",
       "      <td>0.000000</td>\n",
       "    </tr>\n",
       "    <tr>\n",
       "      <th>revol_bal</th>\n",
       "      <td>revol_bal</td>\n",
       "      <td>float64</td>\n",
       "      <td>0</td>\n",
       "      <td>0.000000</td>\n",
       "    </tr>\n",
       "    <tr>\n",
       "      <th>revol_util</th>\n",
       "      <td>revol_util</td>\n",
       "      <td>float64</td>\n",
       "      <td>276</td>\n",
       "      <td>0.069692</td>\n",
       "    </tr>\n",
       "    <tr>\n",
       "      <th>total_acc</th>\n",
       "      <td>total_acc</td>\n",
       "      <td>float64</td>\n",
       "      <td>0</td>\n",
       "      <td>0.000000</td>\n",
       "    </tr>\n",
       "    <tr>\n",
       "      <th>mort_acc</th>\n",
       "      <td>mort_acc</td>\n",
       "      <td>float64</td>\n",
       "      <td>37795</td>\n",
       "      <td>9.543469</td>\n",
       "    </tr>\n",
       "    <tr>\n",
       "      <th>pub_rec_bankruptcies</th>\n",
       "      <td>pub_rec_bankruptcies</td>\n",
       "      <td>float64</td>\n",
       "      <td>535</td>\n",
       "      <td>0.135091</td>\n",
       "    </tr>\n",
       "  </tbody>\n",
       "</table>\n",
       "</div>"
      ],
      "text/plain": [
       "                                     nomes    tipos   NA #      NA %\n",
       "loan_amnt                        loan_amnt  float64      0  0.000000\n",
       "int_rate                          int_rate  float64      0  0.000000\n",
       "installment                    installment  float64      0  0.000000\n",
       "annual_inc                      annual_inc  float64      0  0.000000\n",
       "dti                                    dti  float64      0  0.000000\n",
       "open_acc                          open_acc  float64      0  0.000000\n",
       "pub_rec                            pub_rec  float64      0  0.000000\n",
       "revol_bal                        revol_bal  float64      0  0.000000\n",
       "revol_util                      revol_util  float64    276  0.069692\n",
       "total_acc                        total_acc  float64      0  0.000000\n",
       "mort_acc                          mort_acc  float64  37795  9.543469\n",
       "pub_rec_bankruptcies  pub_rec_bankruptcies  float64    535  0.135091"
      ]
     },
     "execution_count": 10,
     "metadata": {},
     "output_type": "execute_result"
    }
   ],
   "source": [
    "df_info.loc[df_info['tipos']!='object']"
   ]
  },
  {
   "cell_type": "markdown",
   "id": "ceac8ec9-4bec-41be-be01-691768e8c667",
   "metadata": {},
   "source": [
    "#### loan_status is our label"
   ]
  },
  {
   "cell_type": "code",
   "execution_count": 11,
   "id": "1b40740f-b33c-4c97-b4f7-f94f2c35a28d",
   "metadata": {},
   "outputs": [],
   "source": [
    "sns.set_style(\"darkgrid\")"
   ]
  },
  {
   "cell_type": "code",
   "execution_count": 12,
   "id": "36a9df03-2b20-4be9-8666-0e2b7cc9cbc7",
   "metadata": {},
   "outputs": [
    {
     "data": {
      "text/plain": [
       "<AxesSubplot:xlabel='loan_status', ylabel='count'>"
      ]
     },
     "execution_count": 12,
     "metadata": {},
     "output_type": "execute_result"
    },
    {
     "data": {
      "image/png": "[encoded data removed]",
      "text/plain": [
       "<Figure size 432x288 with 1 Axes>"
      ]
     },
     "metadata": {},
     "output_type": "display_data"
    }
   ],
   "source": [
    "sns.countplot(data=df, x='loan_status') \n",
    "\n",
    "# there's two categories in the label\n",
    "# there's some disbalance in the target data, so we need to pay attention to the precision and the recall more than in the accuracy"
   ]
  },
  {
   "cell_type": "markdown",
   "id": "6dff9631-29c5-4780-baac-f323790a14f6",
   "metadata": {},
   "source": [
    "#### loan_amnt is an important feature, let's look at it: first a distribution of values, then a distribution with hue='loan_status'"
   ]
  },
  {
   "cell_type": "code",
   "execution_count": 13,
   "id": "57ee7e79-c03d-4dfe-991d-fa4709f989d6",
   "metadata": {},
   "outputs": [
    {
     "data": {
      "text/plain": [
       "<seaborn.axisgrid.FacetGrid at 0x7fe7c2d4a6d0>"
      ]
     },
     "execution_count": 13,
     "metadata": {},
     "output_type": "execute_result"
    },
    {
     "data": {
      "image/png": "[encoded data removed]",
      "text/plain": [
       "<Figure size 864x432 with 1 Axes>"
      ]
     },
     "metadata": {},
     "output_type": "display_data"
    }
   ],
   "source": [
    "sns.displot(data=df, x='loan_amnt', kde=False, height=6, aspect=2)\n",
    "\n",
    "# the marjority of the loans have values until 20000"
   ]
  },
  {
   "cell_type": "code",
   "execution_count": 14,
   "id": "7637cb3c-d789-4918-860a-925cd6d9da91",
   "metadata": {},
   "outputs": [
    {
     "data": {
      "text/plain": [
       "<seaborn.axisgrid.FacetGrid at 0x7fe7c2ac6ee0>"
      ]
     },
     "execution_count": 14,
     "metadata": {},
     "output_type": "execute_result"
    },
    {
     "data": {
      "image/png": "[encoded data removed]",
      "text/plain": [
       "<Figure size 1392.38x432 with 1 Axes>"
      ]
     },
     "metadata": {},
     "output_type": "display_data"
    }
   ],
   "source": [
    "sns.displot(data=df, x='loan_amnt', kde=False, height=6, aspect=3, hue='loan_status', multiple='dodge')\n",
    "\n",
    "# the bigger the loan, bigger the proportion of Charged Off loans"
   ]
  },
  {
   "cell_type": "code",
   "execution_count": 15,
   "id": "186f6106-a568-4b2b-89d3-06b492b8a418",
   "metadata": {},
   "outputs": [
    {
     "data": {
      "text/plain": [
       "<AxesSubplot:xlabel='loan_status', ylabel='loan_amnt'>"
      ]
     },
     "execution_count": 15,
     "metadata": {},
     "output_type": "execute_result"
    },
    {
     "data": {
      "image/png": "[encoded data removed]",
      "text/plain": [
       "<Figure size 576x432 with 1 Axes>"
      ]
     },
     "metadata": {},
     "output_type": "display_data"
    }
   ],
   "source": [
    "plt.figure(figsize=(8,6))\n",
    "sns.boxplot(data=df, x='loan_status', y='loan_amnt')\n",
    "\n",
    "# there's no huge difference between the two status, but there's some... we can see that the mean is a little higher with Charged Off"
   ]
  },
  {
   "cell_type": "code",
   "execution_count": 16,
   "id": "fb36e56e-2020-488b-9af2-cd8babe152dc",
   "metadata": {},
   "outputs": [
    {
     "data": {
      "text/html": [
       "<div>\n",
       "<style scoped>\n",
       "    .dataframe tbody tr th:only-of-type {\n",
       "        vertical-align: middle;\n",
       "    }\n",
       "\n",
       "    .dataframe tbody tr th {\n",
       "        vertical-align: top;\n",
       "    }\n",
       "\n",
       "    .dataframe thead th {\n",
       "        text-align: right;\n",
       "    }\n",
       "</style>\n",
       "<table border=\"1\" class=\"dataframe\">\n",
       "  <thead>\n",
       "    <tr style=\"text-align: right;\">\n",
       "      <th></th>\n",
       "      <th>count</th>\n",
       "      <th>mean</th>\n",
       "      <th>std</th>\n",
       "      <th>min</th>\n",
       "      <th>25%</th>\n",
       "      <th>50%</th>\n",
       "      <th>75%</th>\n",
       "      <th>max</th>\n",
       "    </tr>\n",
       "    <tr>\n",
       "      <th>loan_status</th>\n",
       "      <th></th>\n",
       "      <th></th>\n",
       "      <th></th>\n",
       "      <th></th>\n",
       "      <th></th>\n",
       "      <th></th>\n",
       "      <th></th>\n",
       "      <th></th>\n",
       "    </tr>\n",
       "  </thead>\n",
       "  <tbody>\n",
       "    <tr>\n",
       "      <th>Charged Off</th>\n",
       "      <td>77673.0</td>\n",
       "      <td>15126.300967</td>\n",
       "      <td>8505.090557</td>\n",
       "      <td>1000.0</td>\n",
       "      <td>8525.0</td>\n",
       "      <td>14000.0</td>\n",
       "      <td>20000.0</td>\n",
       "      <td>40000.0</td>\n",
       "    </tr>\n",
       "    <tr>\n",
       "      <th>Fully Paid</th>\n",
       "      <td>318357.0</td>\n",
       "      <td>13866.878771</td>\n",
       "      <td>8302.319699</td>\n",
       "      <td>500.0</td>\n",
       "      <td>7500.0</td>\n",
       "      <td>12000.0</td>\n",
       "      <td>19225.0</td>\n",
       "      <td>40000.0</td>\n",
       "    </tr>\n",
       "  </tbody>\n",
       "</table>\n",
       "</div>"
      ],
      "text/plain": [
       "                count          mean          std     min     25%      50%  \\\n",
       "loan_status                                                                 \n",
       "Charged Off   77673.0  15126.300967  8505.090557  1000.0  8525.0  14000.0   \n",
       "Fully Paid   318357.0  13866.878771  8302.319699   500.0  7500.0  12000.0   \n",
       "\n",
       "                 75%      max  \n",
       "loan_status                    \n",
       "Charged Off  20000.0  40000.0  \n",
       "Fully Paid   19225.0  40000.0  "
      ]
     },
     "execution_count": 16,
     "metadata": {},
     "output_type": "execute_result"
    }
   ],
   "source": [
    "df.groupby('loan_status')['loan_amnt'].describe()"
   ]
  },
  {
   "cell_type": "markdown",
   "id": "fc00cbf2-ad58-453b-9b18-ef4c70ae36bb",
   "metadata": {},
   "source": [
    "#### let's see the correlation of the loan_amnt with the other numerical features"
   ]
  },
  {
   "cell_type": "code",
   "execution_count": 17,
   "id": "d9a00689-99ab-42a7-b03c-a976e3d6250b",
   "metadata": {},
   "outputs": [
    {
     "data": {
      "text/plain": [
       "<AxesSubplot:>"
      ]
     },
     "execution_count": 17,
     "metadata": {},
     "output_type": "execute_result"
    },
    {
     "data": {
      "image/png": "[encoded data removed]",
      "text/plain": [
       "<Figure size 864x720 with 2 Axes>"
      ]
     },
     "metadata": {},
     "output_type": "display_data"
    }
   ],
   "source": [
    "plt.figure(figsize=(12,10))\n",
    "sns.heatmap(data=df.corr(), annot=True)"
   ]
  },
  {
   "cell_type": "code",
   "execution_count": 18,
   "id": "39cf9a57-be02-438a-a814-32b7ddd5d85d",
   "metadata": {},
   "outputs": [
    {
     "data": {
      "text/plain": [
       "pub_rec_bankruptcies   -0.106539\n",
       "pub_rec                -0.077779\n",
       "dti                     0.016636\n",
       "revol_util              0.099911\n",
       "int_rate                0.168921\n",
       "open_acc                0.198556\n",
       "mort_acc                0.222315\n",
       "total_acc               0.223886\n",
       "revol_bal               0.328320\n",
       "annual_inc              0.336887\n",
       "installment             0.953929\n",
       "loan_amnt               1.000000\n",
       "Name: loan_amnt, dtype: float64"
      ]
     },
     "execution_count": 18,
     "metadata": {},
     "output_type": "execute_result"
    }
   ],
   "source": [
    "df.corr()['loan_amnt'].sort_values()\n",
    "\n",
    "# the metric installment has a strong correlation with the loan_amount"
   ]
  },
  {
   "cell_type": "code",
   "execution_count": 19,
   "id": "75033790-f8cc-41f7-b195-5db036d39ac9",
   "metadata": {},
   "outputs": [
    {
     "data": {
      "text/plain": [
       "<AxesSubplot:xlabel='installment', ylabel='loan_amnt'>"
      ]
     },
     "execution_count": 19,
     "metadata": {},
     "output_type": "execute_result"
    },
    {
     "data": {
      "image/png": "[encoded data removed]",
      "text/plain": [
       "<Figure size 720x576 with 1 Axes>"
      ]
     },
     "metadata": {},
     "output_type": "display_data"
    }
   ],
   "source": [
    "plt.figure(figsize=(10,8))\n",
    "sns.scatterplot(data=df, x='installment', y='loan_amnt')"
   ]
  },
  {
   "cell_type": "code",
   "execution_count": 20,
   "id": "ac8be893-a888-4df3-9109-5549511f9d0b",
   "metadata": {},
   "outputs": [
    {
     "name": "stdout",
     "output_type": "stream",
     "text": [
      "The monthly payment owed by the borrower if the loan originates.\n"
     ]
    }
   ],
   "source": [
    "feat_info('installment')\n",
    "\n",
    "# it makes sense the correlation because we saw that the bigger the loan, the bigger the proportion of Charged Off loans, so the bigger the owed amount"
   ]
  },
  {
   "cell_type": "markdown",
   "id": "536a9f3e-72f6-4efe-8cb2-6a6b24f8afab",
   "metadata": {},
   "source": [
    "#### exploring grade e sub_grade"
   ]
  },
  {
   "cell_type": "code",
   "execution_count": 21,
   "id": "7721462a-6344-4c78-8bcb-327e233c15fa",
   "metadata": {},
   "outputs": [
    {
     "name": "stdout",
     "output_type": "stream",
     "text": [
      "LC assigned loan grade\n"
     ]
    }
   ],
   "source": [
    "feat_info('grade')"
   ]
  },
  {
   "cell_type": "code",
   "execution_count": 22,
   "id": "21332225-f50f-4615-a106-d4e20345d2db",
   "metadata": {},
   "outputs": [
    {
     "name": "stdout",
     "output_type": "stream",
     "text": [
      "LC assigned loan subgrade\n"
     ]
    }
   ],
   "source": [
    "feat_info('sub_grade')"
   ]
  },
  {
   "cell_type": "code",
   "execution_count": 23,
   "id": "3fed9aad-3eb7-428f-9218-e3d74efe11ac",
   "metadata": {},
   "outputs": [
    {
     "data": {
      "text/plain": [
       "<AxesSubplot:xlabel='grade', ylabel='count'>"
      ]
     },
     "execution_count": 23,
     "metadata": {},
     "output_type": "execute_result"
    },
    {
     "data": {
      "image/png": "[encoded data removed]",
      "text/plain": [
       "<Figure size 432x288 with 1 Axes>"
      ]
     },
     "metadata": {},
     "output_type": "display_data"
    }
   ],
   "source": [
    "order = df['grade'].sort_values().unique()\n",
    "sns.countplot(data=df, x='grade', order=order)\n",
    "\n",
    "# there's a concentration on the B and C categories"
   ]
  },
  {
   "cell_type": "code",
   "execution_count": 24,
   "id": "87964bd7-3bf8-4853-a5e3-9501ce61ad38",
   "metadata": {},
   "outputs": [
    {
     "data": {
      "text/plain": [
       "<AxesSubplot:xlabel='sub_grade', ylabel='count'>"
      ]
     },
     "execution_count": 24,
     "metadata": {},
     "output_type": "execute_result"
    },
    {
     "data": {
      "image/png": "[encoded data removed]",
      "text/plain": [
       "<Figure size 1008x576 with 1 Axes>"
      ]
     },
     "metadata": {},
     "output_type": "display_data"
    }
   ],
   "source": [
    "order = df['sub_grade'].sort_values().unique()\n",
    "plt.figure(figsize=(14,8))\n",
    "sns.countplot(data=df, x='sub_grade', order=order)\n",
    "\n",
    "# clearly is a concentration between the B and C categories, but the sub_grade shows that even inside these categories, there're subcategories that concentrate the loans, so this describes better the loans \n",
    "# than the grade column"
   ]
  },
  {
   "cell_type": "code",
   "execution_count": 25,
   "id": "330fb67b-7d26-41c6-b3af-4d703aba6920",
   "metadata": {},
   "outputs": [
    {
     "data": {
      "text/plain": [
       "<AxesSubplot:xlabel='sub_grade', ylabel='count'>"
      ]
     },
     "execution_count": 25,
     "metadata": {},
     "output_type": "execute_result"
    },
    {
     "data": {
      "image/png": "[encoded data removed]",
      "text/plain": [
       "<Figure size 1008x576 with 1 Axes>"
      ]
     },
     "metadata": {},
     "output_type": "display_data"
    }
   ],
   "source": [
    "plt.figure(figsize=(14,8))\n",
    "sns.countplot(data=df, x='sub_grade', order=order, hue='loan_status')\n",
    "\n",
    "# we can see that higher the category, higher the portion of loans Charged Off"
   ]
  },
  {
   "cell_type": "markdown",
   "id": "577460d9-212f-497b-a3f2-19157fd3096d",
   "metadata": {},
   "source": [
    "#### our label is the columns loan_status that's an object, so let's create another column converting it to an integer binary column"
   ]
  },
  {
   "cell_type": "code",
   "execution_count": 26,
   "id": "22381781-05b9-4f1f-b1c8-c036b2257d98",
   "metadata": {},
   "outputs": [],
   "source": [
    "df['status'] = df['loan_status'].map({'Fully Paid':1, 'Charged Off':0})"
   ]
  },
  {
   "cell_type": "code",
   "execution_count": 27,
   "id": "6b7ef24f-b1ff-4d13-823e-4042f08f0b61",
   "metadata": {},
   "outputs": [
    {
     "data": {
      "text/plain": [
       "<AxesSubplot:>"
      ]
     },
     "execution_count": 27,
     "metadata": {},
     "output_type": "execute_result"
    },
    {
     "data": {
      "image/png": "[encoded data removed]",
      "text/plain": [
       "<Figure size 576x432 with 1 Axes>"
      ]
     },
     "metadata": {},
     "output_type": "display_data"
    }
   ],
   "source": [
    "plt.figure(figsize=(8, 6))\n",
    "df.corr()['status'][:-1].sort_values().plot(kind='bar')\n",
    "\n",
    "# correlation between our target and other features"
   ]
  },
  {
   "cell_type": "markdown",
   "id": "23a56cbc-168d-458f-8a58-b2cc80b3c080",
   "metadata": {},
   "source": [
    "____\n",
    "# Feature Engineering"
   ]
  },
  {
   "cell_type": "markdown",
   "id": "d8db449c-d7c5-405e-8bc4-abc5f930b6aa",
   "metadata": {},
   "source": [
    "### Dealing with Missing Values"
   ]
  },
  {
   "cell_type": "markdown",
   "id": "c7b37932-d651-4200-b5cb-68df010b7ba8",
   "metadata": {},
   "source": [
    "#### Numerical "
   ]
  },
  {
   "cell_type": "code",
   "execution_count": 28,
   "id": "fabcee85-f6c3-490d-94ce-79ad00cba7f0",
   "metadata": {},
   "outputs": [
    {
     "data": {
      "text/html": [
       "<div>\n",
       "<style scoped>\n",
       "    .dataframe tbody tr th:only-of-type {\n",
       "        vertical-align: middle;\n",
       "    }\n",
       "\n",
       "    .dataframe tbody tr th {\n",
       "        vertical-align: top;\n",
       "    }\n",
       "\n",
       "    .dataframe thead th {\n",
       "        text-align: right;\n",
       "    }\n",
       "</style>\n",
       "<table border=\"1\" class=\"dataframe\">\n",
       "  <thead>\n",
       "    <tr style=\"text-align: right;\">\n",
       "      <th></th>\n",
       "      <th>nomes</th>\n",
       "      <th>tipos</th>\n",
       "      <th>NA #</th>\n",
       "      <th>NA %</th>\n",
       "    </tr>\n",
       "  </thead>\n",
       "  <tbody>\n",
       "    <tr>\n",
       "      <th>loan_amnt</th>\n",
       "      <td>loan_amnt</td>\n",
       "      <td>float64</td>\n",
       "      <td>0</td>\n",
       "      <td>0.000000</td>\n",
       "    </tr>\n",
       "    <tr>\n",
       "      <th>int_rate</th>\n",
       "      <td>int_rate</td>\n",
       "      <td>float64</td>\n",
       "      <td>0</td>\n",
       "      <td>0.000000</td>\n",
       "    </tr>\n",
       "    <tr>\n",
       "      <th>installment</th>\n",
       "      <td>installment</td>\n",
       "      <td>float64</td>\n",
       "      <td>0</td>\n",
       "      <td>0.000000</td>\n",
       "    </tr>\n",
       "    <tr>\n",
       "      <th>annual_inc</th>\n",
       "      <td>annual_inc</td>\n",
       "      <td>float64</td>\n",
       "      <td>0</td>\n",
       "      <td>0.000000</td>\n",
       "    </tr>\n",
       "    <tr>\n",
       "      <th>dti</th>\n",
       "      <td>dti</td>\n",
       "      <td>float64</td>\n",
       "      <td>0</td>\n",
       "      <td>0.000000</td>\n",
       "    </tr>\n",
       "    <tr>\n",
       "      <th>open_acc</th>\n",
       "      <td>open_acc</td>\n",
       "      <td>float64</td>\n",
       "      <td>0</td>\n",
       "      <td>0.000000</td>\n",
       "    </tr>\n",
       "    <tr>\n",
       "      <th>pub_rec</th>\n",
       "      <td>pub_rec</td>\n",
       "      <td>float64</td>\n",
       "      <td>0</td>\n",
       "      <td>0.000000</td>\n",
       "    </tr>\n",
       "    <tr>\n",
       "      <th>revol_bal</th>\n",
       "      <td>revol_bal</td>\n",
       "      <td>float64</td>\n",
       "      <td>0</td>\n",
       "      <td>0.000000</td>\n",
       "    </tr>\n",
       "    <tr>\n",
       "      <th>revol_util</th>\n",
       "      <td>revol_util</td>\n",
       "      <td>float64</td>\n",
       "      <td>276</td>\n",
       "      <td>0.069692</td>\n",
       "    </tr>\n",
       "    <tr>\n",
       "      <th>total_acc</th>\n",
       "      <td>total_acc</td>\n",
       "      <td>float64</td>\n",
       "      <td>0</td>\n",
       "      <td>0.000000</td>\n",
       "    </tr>\n",
       "    <tr>\n",
       "      <th>mort_acc</th>\n",
       "      <td>mort_acc</td>\n",
       "      <td>float64</td>\n",
       "      <td>37795</td>\n",
       "      <td>9.543469</td>\n",
       "    </tr>\n",
       "    <tr>\n",
       "      <th>pub_rec_bankruptcies</th>\n",
       "      <td>pub_rec_bankruptcies</td>\n",
       "      <td>float64</td>\n",
       "      <td>535</td>\n",
       "      <td>0.135091</td>\n",
       "    </tr>\n",
       "    <tr>\n",
       "      <th>status</th>\n",
       "      <td>status</td>\n",
       "      <td>int64</td>\n",
       "      <td>0</td>\n",
       "      <td>0.000000</td>\n",
       "    </tr>\n",
       "  </tbody>\n",
       "</table>\n",
       "</div>"
      ],
      "text/plain": [
       "                                     nomes    tipos   NA #      NA %\n",
       "loan_amnt                        loan_amnt  float64      0  0.000000\n",
       "int_rate                          int_rate  float64      0  0.000000\n",
       "installment                    installment  float64      0  0.000000\n",
       "annual_inc                      annual_inc  float64      0  0.000000\n",
       "dti                                    dti  float64      0  0.000000\n",
       "open_acc                          open_acc  float64      0  0.000000\n",
       "pub_rec                            pub_rec  float64      0  0.000000\n",
       "revol_bal                        revol_bal  float64      0  0.000000\n",
       "revol_util                      revol_util  float64    276  0.069692\n",
       "total_acc                        total_acc  float64      0  0.000000\n",
       "mort_acc                          mort_acc  float64  37795  9.543469\n",
       "pub_rec_bankruptcies  pub_rec_bankruptcies  float64    535  0.135091\n",
       "status                              status    int64      0  0.000000"
      ]
     },
     "execution_count": 28,
     "metadata": {},
     "output_type": "execute_result"
    }
   ],
   "source": [
    "df_info = pd.DataFrame({'nomes' : df.columns, 'tipos' : df.dtypes,\n",
    "                           'NA #': df.isna().sum(), 'NA %' : (df.isna().sum() / df.shape[0]) * 100})\n",
    "\n",
    "df_info.loc[df_info['tipos']!='object']\n",
    "\n",
    "# the revol_util missing data represents only 0.07% of the total data, so there's no problem in dropping the rows\n",
    "# the pub_rec_bankruptcies missing data represents only 0,1% of the total data, so there's no problem in dropping the rows as well\n",
    "# the mort_acc missing data represents almost 10% of the total data, it's a lot to drop, so we'll try to fill these values\n",
    "\n",
    "# we're gonna drop revol_util and pub_rec_bankruptcies missing values later"
   ]
  },
  {
   "cell_type": "markdown",
   "id": "51e8b888-89d9-4a3d-a95a-5d1d2b6a8749",
   "metadata": {},
   "source": [
    "#### filling up mort_acc"
   ]
  },
  {
   "cell_type": "code",
   "execution_count": 29,
   "id": "1971646a-10d4-49e8-a585-a1082a16699e",
   "metadata": {},
   "outputs": [
    {
     "name": "stdout",
     "output_type": "stream",
     "text": [
      "Number of mortgage accounts.\n"
     ]
    }
   ],
   "source": [
    "feat_info('mort_acc')"
   ]
  },
  {
   "cell_type": "code",
   "execution_count": 30,
   "id": "978685fc-6a51-43e7-aaf2-d50ca055d2ff",
   "metadata": {},
   "outputs": [
    {
     "data": {
      "text/plain": [
       "array([ 0.,  3.,  1.,  4.,  2.,  6.,  5., nan, 10.,  7., 12., 11.,  8.,\n",
       "        9., 13., 14., 22., 34., 15., 25., 19., 16., 17., 32., 18., 24.,\n",
       "       21., 20., 31., 28., 30., 23., 26., 27.])"
      ]
     },
     "execution_count": 30,
     "metadata": {},
     "output_type": "execute_result"
    }
   ],
   "source": [
    "df['mort_acc'].unique()"
   ]
  },
  {
   "cell_type": "code",
   "execution_count": 31,
   "id": "1b8728a2-16c6-4cb1-895d-7a7e78c0f9a2",
   "metadata": {},
   "outputs": [
    {
     "data": {
      "text/plain": [
       "int_rate               -0.082583\n",
       "dti                    -0.025439\n",
       "revol_util              0.007514\n",
       "pub_rec                 0.011552\n",
       "pub_rec_bankruptcies    0.027239\n",
       "status                  0.073111\n",
       "open_acc                0.109205\n",
       "installment             0.193694\n",
       "revol_bal               0.194925\n",
       "loan_amnt               0.222315\n",
       "annual_inc              0.236320\n",
       "total_acc               0.381072\n",
       "mort_acc                1.000000\n",
       "Name: mort_acc, dtype: float64"
      ]
     },
     "execution_count": 31,
     "metadata": {},
     "output_type": "execute_result"
    }
   ],
   "source": [
    "df.corr()['mort_acc'].sort_values()\n",
    "\n",
    "# looking the correlation of column mort_acc with the others, total_acc seems to be the column with the higher correlation"
   ]
  },
  {
   "cell_type": "code",
   "execution_count": 32,
   "id": "fb67ebc5-da18-4a14-b769-5c7eb61d6f38",
   "metadata": {},
   "outputs": [
    {
     "name": "stdout",
     "output_type": "stream",
     "text": [
      "The total number of credit lines currently in the borrower's credit file\n"
     ]
    }
   ],
   "source": [
    "# looking at the column total_acc\n",
    "\n",
    "feat_info('total_acc')"
   ]
  },
  {
   "cell_type": "code",
   "execution_count": 33,
   "id": "5aa5744c-17e1-46dc-86ec-4c62049003b7",
   "metadata": {},
   "outputs": [
    {
     "data": {
      "text/plain": [
       "array([ 25.,  27.,  26.,  13.,  43.,  23.,  15.,  40.,  37.,  61.,  35.,\n",
       "        22.,  20.,  36.,  38.,   7.,  18.,  10.,  17.,  29.,  16.,  21.,\n",
       "        34.,   9.,  14.,  59.,  41.,  19.,  12.,  30.,  56.,  24.,  28.,\n",
       "         8.,  52.,  31.,  44.,  39.,  50.,  11.,  62.,  32.,   5.,  33.,\n",
       "        46.,  42.,   6.,  49.,  45.,  57.,  48.,  67.,  47.,  51.,  58.,\n",
       "         3.,  55.,  63.,  53.,   4.,  71.,  69.,  54.,  64.,  81.,  72.,\n",
       "        60.,  68.,  65.,  73.,  78.,  84.,   2.,  76.,  75.,  79.,  87.,\n",
       "        77., 104.,  89.,  70., 105.,  97.,  66., 108.,  74.,  80.,  82.,\n",
       "        91.,  93., 106.,  90.,  85.,  88.,  83., 111.,  86., 101., 135.,\n",
       "        92.,  94.,  95.,  99., 102., 129., 110., 124., 151., 107., 118.,\n",
       "       150., 115., 117.,  96.,  98., 100., 116., 103.])"
      ]
     },
     "execution_count": 33,
     "metadata": {},
     "output_type": "execute_result"
    }
   ],
   "source": [
    "df['total_acc'].unique()"
   ]
  },
  {
   "cell_type": "code",
   "execution_count": 34,
   "id": "3b890e32-b719-4e17-91e7-2d9abbf41e45",
   "metadata": {},
   "outputs": [
    {
     "data": {
      "text/html": [
       "<div>\n",
       "<style scoped>\n",
       "    .dataframe tbody tr th:only-of-type {\n",
       "        vertical-align: middle;\n",
       "    }\n",
       "\n",
       "    .dataframe tbody tr th {\n",
       "        vertical-align: top;\n",
       "    }\n",
       "\n",
       "    .dataframe thead th {\n",
       "        text-align: right;\n",
       "    }\n",
       "</style>\n",
       "<table border=\"1\" class=\"dataframe\">\n",
       "  <thead>\n",
       "    <tr style=\"text-align: right;\">\n",
       "      <th></th>\n",
       "      <th>total_acc</th>\n",
       "      <th>mort_acc</th>\n",
       "    </tr>\n",
       "  </thead>\n",
       "  <tbody>\n",
       "    <tr>\n",
       "      <th>0</th>\n",
       "      <td>2.0</td>\n",
       "      <td>0.000000</td>\n",
       "    </tr>\n",
       "    <tr>\n",
       "      <th>1</th>\n",
       "      <td>3.0</td>\n",
       "      <td>0.052023</td>\n",
       "    </tr>\n",
       "    <tr>\n",
       "      <th>2</th>\n",
       "      <td>4.0</td>\n",
       "      <td>0.066743</td>\n",
       "    </tr>\n",
       "    <tr>\n",
       "      <th>3</th>\n",
       "      <td>5.0</td>\n",
       "      <td>0.103289</td>\n",
       "    </tr>\n",
       "    <tr>\n",
       "      <th>4</th>\n",
       "      <td>6.0</td>\n",
       "      <td>0.151293</td>\n",
       "    </tr>\n",
       "    <tr>\n",
       "      <th>...</th>\n",
       "      <td>...</td>\n",
       "      <td>...</td>\n",
       "    </tr>\n",
       "    <tr>\n",
       "      <th>113</th>\n",
       "      <td>124.0</td>\n",
       "      <td>1.000000</td>\n",
       "    </tr>\n",
       "    <tr>\n",
       "      <th>114</th>\n",
       "      <td>129.0</td>\n",
       "      <td>1.000000</td>\n",
       "    </tr>\n",
       "    <tr>\n",
       "      <th>115</th>\n",
       "      <td>135.0</td>\n",
       "      <td>3.000000</td>\n",
       "    </tr>\n",
       "    <tr>\n",
       "      <th>116</th>\n",
       "      <td>150.0</td>\n",
       "      <td>2.000000</td>\n",
       "    </tr>\n",
       "    <tr>\n",
       "      <th>117</th>\n",
       "      <td>151.0</td>\n",
       "      <td>0.000000</td>\n",
       "    </tr>\n",
       "  </tbody>\n",
       "</table>\n",
       "<p>118 rows × 2 columns</p>\n",
       "</div>"
      ],
      "text/plain": [
       "     total_acc  mort_acc\n",
       "0          2.0  0.000000\n",
       "1          3.0  0.052023\n",
       "2          4.0  0.066743\n",
       "3          5.0  0.103289\n",
       "4          6.0  0.151293\n",
       "..         ...       ...\n",
       "113      124.0  1.000000\n",
       "114      129.0  1.000000\n",
       "115      135.0  3.000000\n",
       "116      150.0  2.000000\n",
       "117      151.0  0.000000\n",
       "\n",
       "[118 rows x 2 columns]"
      ]
     },
     "execution_count": 34,
     "metadata": {},
     "output_type": "execute_result"
    }
   ],
   "source": [
    "df.groupby('total_acc', as_index=False).mean()[['total_acc', 'mort_acc']]\n",
    "\n",
    "# we will use the mean of the mort_acc with respect to the total_acc to fill up the missing data"
   ]
  },
  {
   "cell_type": "code",
   "execution_count": 35,
   "id": "7d804ab1-0c55-4dbd-a120-d0e01c018796",
   "metadata": {},
   "outputs": [],
   "source": [
    "total_acc_avg = df.groupby('total_acc').mean()['mort_acc']"
   ]
  },
  {
   "cell_type": "code",
   "execution_count": 36,
   "id": "d33fce04-ed3d-499a-8824-0147d5a8abfd",
   "metadata": {},
   "outputs": [],
   "source": [
    "def fill_mort_acc(total_acc,mort_acc):\n",
    "    '''\n",
    "    Accepts the total_acc and mort_acc values for the row.\n",
    "    Checks if the mort_acc is NaN , if so, it returns the avg mort_acc value\n",
    "    for the corresponding total_acc value for that row.\n",
    "    \n",
    "    total_acc_avg here should be a Series or dictionary containing the mapping of the\n",
    "    groupby averages of mort_acc per total_acc values.\n",
    "    '''\n",
    "    if np.isnan(mort_acc):\n",
    "        return total_acc_avg[total_acc]\n",
    "    else:\n",
    "        return mort_acc"
   ]
  },
  {
   "cell_type": "code",
   "execution_count": 37,
   "id": "df61eb7a-b7b1-4f2f-8fca-b59c6f11e7cf",
   "metadata": {},
   "outputs": [],
   "source": [
    "df['mort_acc'] = df.apply(lambda x: fill_mort_acc(x['total_acc'], x['mort_acc']), axis=1)"
   ]
  },
  {
   "cell_type": "markdown",
   "id": "96acd1a0-8928-484b-8b3e-9e6665a13de0",
   "metadata": {},
   "source": [
    "#### Categorical"
   ]
  },
  {
   "cell_type": "code",
   "execution_count": 38,
   "id": "4bf72baf-62d3-44be-a8cb-ffa24383ae07",
   "metadata": {},
   "outputs": [
    {
     "data": {
      "text/html": [
       "<div>\n",
       "<style scoped>\n",
       "    .dataframe tbody tr th:only-of-type {\n",
       "        vertical-align: middle;\n",
       "    }\n",
       "\n",
       "    .dataframe tbody tr th {\n",
       "        vertical-align: top;\n",
       "    }\n",
       "\n",
       "    .dataframe thead th {\n",
       "        text-align: right;\n",
       "    }\n",
       "</style>\n",
       "<table border=\"1\" class=\"dataframe\">\n",
       "  <thead>\n",
       "    <tr style=\"text-align: right;\">\n",
       "      <th></th>\n",
       "      <th>nomes</th>\n",
       "      <th>tipos</th>\n",
       "      <th>NA #</th>\n",
       "      <th>NA %</th>\n",
       "    </tr>\n",
       "  </thead>\n",
       "  <tbody>\n",
       "    <tr>\n",
       "      <th>term</th>\n",
       "      <td>term</td>\n",
       "      <td>object</td>\n",
       "      <td>0</td>\n",
       "      <td>0.000000</td>\n",
       "    </tr>\n",
       "    <tr>\n",
       "      <th>grade</th>\n",
       "      <td>grade</td>\n",
       "      <td>object</td>\n",
       "      <td>0</td>\n",
       "      <td>0.000000</td>\n",
       "    </tr>\n",
       "    <tr>\n",
       "      <th>sub_grade</th>\n",
       "      <td>sub_grade</td>\n",
       "      <td>object</td>\n",
       "      <td>0</td>\n",
       "      <td>0.000000</td>\n",
       "    </tr>\n",
       "    <tr>\n",
       "      <th>emp_title</th>\n",
       "      <td>emp_title</td>\n",
       "      <td>object</td>\n",
       "      <td>22927</td>\n",
       "      <td>5.789208</td>\n",
       "    </tr>\n",
       "    <tr>\n",
       "      <th>emp_length</th>\n",
       "      <td>emp_length</td>\n",
       "      <td>object</td>\n",
       "      <td>18301</td>\n",
       "      <td>4.621115</td>\n",
       "    </tr>\n",
       "    <tr>\n",
       "      <th>home_ownership</th>\n",
       "      <td>home_ownership</td>\n",
       "      <td>object</td>\n",
       "      <td>0</td>\n",
       "      <td>0.000000</td>\n",
       "    </tr>\n",
       "    <tr>\n",
       "      <th>verification_status</th>\n",
       "      <td>verification_status</td>\n",
       "      <td>object</td>\n",
       "      <td>0</td>\n",
       "      <td>0.000000</td>\n",
       "    </tr>\n",
       "    <tr>\n",
       "      <th>issue_d</th>\n",
       "      <td>issue_d</td>\n",
       "      <td>object</td>\n",
       "      <td>0</td>\n",
       "      <td>0.000000</td>\n",
       "    </tr>\n",
       "    <tr>\n",
       "      <th>loan_status</th>\n",
       "      <td>loan_status</td>\n",
       "      <td>object</td>\n",
       "      <td>0</td>\n",
       "      <td>0.000000</td>\n",
       "    </tr>\n",
       "    <tr>\n",
       "      <th>purpose</th>\n",
       "      <td>purpose</td>\n",
       "      <td>object</td>\n",
       "      <td>0</td>\n",
       "      <td>0.000000</td>\n",
       "    </tr>\n",
       "    <tr>\n",
       "      <th>title</th>\n",
       "      <td>title</td>\n",
       "      <td>object</td>\n",
       "      <td>1755</td>\n",
       "      <td>0.443148</td>\n",
       "    </tr>\n",
       "    <tr>\n",
       "      <th>earliest_cr_line</th>\n",
       "      <td>earliest_cr_line</td>\n",
       "      <td>object</td>\n",
       "      <td>0</td>\n",
       "      <td>0.000000</td>\n",
       "    </tr>\n",
       "    <tr>\n",
       "      <th>initial_list_status</th>\n",
       "      <td>initial_list_status</td>\n",
       "      <td>object</td>\n",
       "      <td>0</td>\n",
       "      <td>0.000000</td>\n",
       "    </tr>\n",
       "    <tr>\n",
       "      <th>application_type</th>\n",
       "      <td>application_type</td>\n",
       "      <td>object</td>\n",
       "      <td>0</td>\n",
       "      <td>0.000000</td>\n",
       "    </tr>\n",
       "    <tr>\n",
       "      <th>address</th>\n",
       "      <td>address</td>\n",
       "      <td>object</td>\n",
       "      <td>0</td>\n",
       "      <td>0.000000</td>\n",
       "    </tr>\n",
       "  </tbody>\n",
       "</table>\n",
       "</div>"
      ],
      "text/plain": [
       "                                   nomes   tipos   NA #      NA %\n",
       "term                                term  object      0  0.000000\n",
       "grade                              grade  object      0  0.000000\n",
       "sub_grade                      sub_grade  object      0  0.000000\n",
       "emp_title                      emp_title  object  22927  5.789208\n",
       "emp_length                    emp_length  object  18301  4.621115\n",
       "home_ownership            home_ownership  object      0  0.000000\n",
       "verification_status  verification_status  object      0  0.000000\n",
       "issue_d                          issue_d  object      0  0.000000\n",
       "loan_status                  loan_status  object      0  0.000000\n",
       "purpose                          purpose  object      0  0.000000\n",
       "title                              title  object   1755  0.443148\n",
       "earliest_cr_line        earliest_cr_line  object      0  0.000000\n",
       "initial_list_status  initial_list_status  object      0  0.000000\n",
       "application_type        application_type  object      0  0.000000\n",
       "address                          address  object      0  0.000000"
      ]
     },
     "execution_count": 38,
     "metadata": {},
     "output_type": "execute_result"
    }
   ],
   "source": [
    "df_info = pd.DataFrame({'nomes' : df.columns, 'tipos' : df.dtypes,\n",
    "                           'NA #': df.isna().sum(), 'NA %' : (df.isna().sum() / df.shape[0]) * 100})\n",
    "\n",
    "df_info.loc[df_info['tipos']=='object']\n",
    "\n",
    "# emp_title has almost 6% of it's data missing, we may look if the column has value to the model before decide with we fill up the data or drop the column\n",
    "# same thing for emp_lenght\n",
    "# title has just 0.4% of missing data, we may drop theses rows"
   ]
  },
  {
   "cell_type": "markdown",
   "id": "406b6e65-3bc9-4375-9ff5-27e139d5816b",
   "metadata": {},
   "source": [
    "##### looking at emp_title"
   ]
  },
  {
   "cell_type": "code",
   "execution_count": 39,
   "id": "e4d4f4bd-d5a3-4335-9983-0f8aceedb80e",
   "metadata": {},
   "outputs": [
    {
     "name": "stdout",
     "output_type": "stream",
     "text": [
      "The job title supplied by the Borrower when applying for the loan.*\n"
     ]
    }
   ],
   "source": [
    "feat_info('emp_title')"
   ]
  },
  {
   "cell_type": "code",
   "execution_count": 40,
   "id": "8e96f6a8-556e-4133-b56c-bc5d048873a7",
   "metadata": {},
   "outputs": [
    {
     "data": {
      "text/plain": [
       "173105"
      ]
     },
     "execution_count": 40,
     "metadata": {},
     "output_type": "execute_result"
    }
   ],
   "source": [
    "df['emp_title'].nunique()\n",
    "\n",
    "# the column has too many unique values and it's not feasible to be filled in this case, so let's drop the column"
   ]
  },
  {
   "cell_type": "code",
   "execution_count": 41,
   "id": "462af9e4-54ba-406f-bf5b-c8551ba5e88c",
   "metadata": {},
   "outputs": [],
   "source": [
    "df.drop('emp_title', axis=1, inplace=True)"
   ]
  },
  {
   "cell_type": "markdown",
   "id": "056abd81-0705-4ac0-a320-a991f049e74e",
   "metadata": {},
   "source": [
    "##### looking at emp_lenght"
   ]
  },
  {
   "cell_type": "code",
   "execution_count": 42,
   "id": "e788f87f-08bd-4cba-b48b-b8466cb8331d",
   "metadata": {},
   "outputs": [
    {
     "name": "stdout",
     "output_type": "stream",
     "text": [
      "Employment length in years. Possible values are between 0 and 10 where 0 means less than one year and 10 means ten or more years. \n"
     ]
    }
   ],
   "source": [
    "feat_info('emp_length')"
   ]
  },
  {
   "cell_type": "code",
   "execution_count": 43,
   "id": "3614943c-4b8f-4766-b2f8-3c1c72205c09",
   "metadata": {},
   "outputs": [
    {
     "data": {
      "text/plain": [
       "11"
      ]
     },
     "execution_count": 43,
     "metadata": {},
     "output_type": "execute_result"
    }
   ],
   "source": [
    "df['emp_length'].nunique()"
   ]
  },
  {
   "cell_type": "code",
   "execution_count": 44,
   "id": "1c116d46-9b1c-4a87-bef8-15578ac3dfd4",
   "metadata": {},
   "outputs": [
    {
     "data": {
      "text/plain": [
       "array(['10+ years', '4 years', '< 1 year', '6 years', '9 years',\n",
       "       '2 years', '3 years', '8 years', '7 years', '5 years', '1 year',\n",
       "       nan], dtype=object)"
      ]
     },
     "execution_count": 44,
     "metadata": {},
     "output_type": "execute_result"
    }
   ],
   "source": [
    "df['emp_length'].unique()"
   ]
  },
  {
   "cell_type": "code",
   "execution_count": 45,
   "id": "5d3c7c09-edef-49d2-8c51-40af6aa456ae",
   "metadata": {},
   "outputs": [],
   "source": [
    "order= ['< 1 year', '1 year', '2 years', '3 years', '4 years', '5 years',\n",
    "       '6 years', '7 years', '8 years', '9 years', '10+ years']"
   ]
  },
  {
   "cell_type": "code",
   "execution_count": 46,
   "id": "1cd0cddb-a4e1-4e6f-98b9-3f3bb86fb7a1",
   "metadata": {},
   "outputs": [
    {
     "data": {
      "text/plain": [
       "<AxesSubplot:xlabel='emp_length', ylabel='count'>"
      ]
     },
     "execution_count": 46,
     "metadata": {},
     "output_type": "execute_result"
    },
    {
     "data": {
      "image/png": "[encoded data removed]",
      "text/plain": [
       "<Figure size 864x576 with 1 Axes>"
      ]
     },
     "metadata": {},
     "output_type": "display_data"
    }
   ],
   "source": [
    "plt.figure(figsize=(12,8))\n",
    "sns.countplot(data=df, x='emp_length', order=order)"
   ]
  },
  {
   "cell_type": "code",
   "execution_count": 47,
   "id": "0fc71bac-3635-4b9b-832d-fa6ae88e4cda",
   "metadata": {},
   "outputs": [
    {
     "data": {
      "text/plain": [
       "<AxesSubplot:xlabel='emp_length', ylabel='count'>"
      ]
     },
     "execution_count": 47,
     "metadata": {},
     "output_type": "execute_result"
    },
    {
     "data": {
      "image/png": "[encoded data removed]",
      "text/plain": [
       "<Figure size 864x576 with 1 Axes>"
      ]
     },
     "metadata": {},
     "output_type": "display_data"
    }
   ],
   "source": [
    "plt.figure(figsize=(12,8))\n",
    "sns.countplot(data=df, x='emp_length', hue='loan_status', order=order)\n",
    "\n",
    "# this countplots doesn't tell us much about a possible relationship"
   ]
  },
  {
   "cell_type": "code",
   "execution_count": 48,
   "id": "ae27bd0e-df7b-4563-9659-5a8c697dd2ba",
   "metadata": {},
   "outputs": [
    {
     "data": {
      "text/plain": [
       "emp_length\n",
       "1 year       0.248649\n",
       "10+ years    0.225770\n",
       "2 years      0.239560\n",
       "3 years      0.242593\n",
       "4 years      0.238213\n",
       "5 years      0.237911\n",
       "6 years      0.233341\n",
       "7 years      0.241887\n",
       "8 years      0.249625\n",
       "9 years      0.250735\n",
       "< 1 year     0.260830\n",
       "Name: loan_status, dtype: float64"
      ]
     },
     "execution_count": 48,
     "metadata": {},
     "output_type": "execute_result"
    }
   ],
   "source": [
    "df.loc[df['loan_status']=='Charged Off'].groupby('emp_length').count()['loan_status']/df.loc[df['loan_status']=='Fully Paid'].groupby('emp_length').count()['loan_status']"
   ]
  },
  {
   "cell_type": "code",
   "execution_count": 49,
   "id": "fb219693-9466-4abe-8421-08593e4cfc48",
   "metadata": {},
   "outputs": [
    {
     "data": {
      "text/plain": [
       "<AxesSubplot:xlabel='emp_length'>"
      ]
     },
     "execution_count": 49,
     "metadata": {},
     "output_type": "execute_result"
    },
    {
     "data": {
      "image/png": "[encoded data removed]",
      "text/plain": [
       "<Figure size 576x432 with 1 Axes>"
      ]
     },
     "metadata": {},
     "output_type": "display_data"
    }
   ],
   "source": [
    "plt.figure(figsize=(8,6))\n",
    "(df.loc[df['loan_status']=='Charged Off'].groupby('emp_length').count()['loan_status']/df.loc[df['loan_status']=='Fully Paid'].groupby('emp_length').count()['loan_status']).plot(kind='bar')\n",
    "\n",
    "# there's no correlation between emp_length and loan_status, so we can drop the column"
   ]
  },
  {
   "cell_type": "code",
   "execution_count": 50,
   "id": "fef790bf-d7e8-4bdf-b341-031058a89606",
   "metadata": {},
   "outputs": [],
   "source": [
    "df.drop('emp_length', axis=1, inplace=True)"
   ]
  },
  {
   "cell_type": "markdown",
   "id": "9ff9efce-09ae-401f-bce9-53a7a43fffc2",
   "metadata": {},
   "source": [
    "##### looking at title"
   ]
  },
  {
   "cell_type": "code",
   "execution_count": 51,
   "id": "60dc60e9-fa7a-4c6b-97e9-cfbc927b9dda",
   "metadata": {},
   "outputs": [
    {
     "name": "stdout",
     "output_type": "stream",
     "text": [
      "The loan title provided by the borrower\n"
     ]
    }
   ],
   "source": [
    "feat_info('title')"
   ]
  },
  {
   "cell_type": "code",
   "execution_count": 52,
   "id": "1bf9f78f-6112-4cb8-97d0-b9f9bbd728ba",
   "metadata": {},
   "outputs": [
    {
     "data": {
      "text/plain": [
       "array(['Vacation', 'Debt consolidation', 'Credit card refinancing', ...,\n",
       "       'Credit buster ', 'Loanforpayoff', 'Toxic Debt Payoff'],\n",
       "      dtype=object)"
      ]
     },
     "execution_count": 52,
     "metadata": {},
     "output_type": "execute_result"
    }
   ],
   "source": [
    "df['title'].unique()"
   ]
  },
  {
   "cell_type": "code",
   "execution_count": 53,
   "id": "da86152d-8712-4518-a783-9dd124582dfb",
   "metadata": {},
   "outputs": [
    {
     "data": {
      "text/plain": [
       "48817"
      ]
     },
     "execution_count": 53,
     "metadata": {},
     "output_type": "execute_result"
    }
   ],
   "source": [
    "df['title'].nunique()\n",
    "\n",
    "# this feature has a lot of unique values and the missing data represents only 0,4% of the data, so we'll drop the rows too"
   ]
  },
  {
   "cell_type": "markdown",
   "id": "ebb25627-a08d-4ea8-8a7a-18b26b26fb82",
   "metadata": {},
   "source": [
    "##### resume treatment of missing values"
   ]
  },
  {
   "cell_type": "code",
   "execution_count": 54,
   "id": "31805d30-0104-4bf5-b2b8-cd8458908139",
   "metadata": {},
   "outputs": [
    {
     "data": {
      "text/html": [
       "<div>\n",
       "<style scoped>\n",
       "    .dataframe tbody tr th:only-of-type {\n",
       "        vertical-align: middle;\n",
       "    }\n",
       "\n",
       "    .dataframe tbody tr th {\n",
       "        vertical-align: top;\n",
       "    }\n",
       "\n",
       "    .dataframe thead th {\n",
       "        text-align: right;\n",
       "    }\n",
       "</style>\n",
       "<table border=\"1\" class=\"dataframe\">\n",
       "  <thead>\n",
       "    <tr style=\"text-align: right;\">\n",
       "      <th></th>\n",
       "      <th>nomes</th>\n",
       "      <th>tipos</th>\n",
       "      <th>NA #</th>\n",
       "      <th>NA %</th>\n",
       "    </tr>\n",
       "  </thead>\n",
       "  <tbody>\n",
       "    <tr>\n",
       "      <th>loan_amnt</th>\n",
       "      <td>loan_amnt</td>\n",
       "      <td>float64</td>\n",
       "      <td>0</td>\n",
       "      <td>0.000000</td>\n",
       "    </tr>\n",
       "    <tr>\n",
       "      <th>term</th>\n",
       "      <td>term</td>\n",
       "      <td>object</td>\n",
       "      <td>0</td>\n",
       "      <td>0.000000</td>\n",
       "    </tr>\n",
       "    <tr>\n",
       "      <th>int_rate</th>\n",
       "      <td>int_rate</td>\n",
       "      <td>float64</td>\n",
       "      <td>0</td>\n",
       "      <td>0.000000</td>\n",
       "    </tr>\n",
       "    <tr>\n",
       "      <th>installment</th>\n",
       "      <td>installment</td>\n",
       "      <td>float64</td>\n",
       "      <td>0</td>\n",
       "      <td>0.000000</td>\n",
       "    </tr>\n",
       "    <tr>\n",
       "      <th>grade</th>\n",
       "      <td>grade</td>\n",
       "      <td>object</td>\n",
       "      <td>0</td>\n",
       "      <td>0.000000</td>\n",
       "    </tr>\n",
       "    <tr>\n",
       "      <th>sub_grade</th>\n",
       "      <td>sub_grade</td>\n",
       "      <td>object</td>\n",
       "      <td>0</td>\n",
       "      <td>0.000000</td>\n",
       "    </tr>\n",
       "    <tr>\n",
       "      <th>home_ownership</th>\n",
       "      <td>home_ownership</td>\n",
       "      <td>object</td>\n",
       "      <td>0</td>\n",
       "      <td>0.000000</td>\n",
       "    </tr>\n",
       "    <tr>\n",
       "      <th>annual_inc</th>\n",
       "      <td>annual_inc</td>\n",
       "      <td>float64</td>\n",
       "      <td>0</td>\n",
       "      <td>0.000000</td>\n",
       "    </tr>\n",
       "    <tr>\n",
       "      <th>verification_status</th>\n",
       "      <td>verification_status</td>\n",
       "      <td>object</td>\n",
       "      <td>0</td>\n",
       "      <td>0.000000</td>\n",
       "    </tr>\n",
       "    <tr>\n",
       "      <th>issue_d</th>\n",
       "      <td>issue_d</td>\n",
       "      <td>object</td>\n",
       "      <td>0</td>\n",
       "      <td>0.000000</td>\n",
       "    </tr>\n",
       "    <tr>\n",
       "      <th>loan_status</th>\n",
       "      <td>loan_status</td>\n",
       "      <td>object</td>\n",
       "      <td>0</td>\n",
       "      <td>0.000000</td>\n",
       "    </tr>\n",
       "    <tr>\n",
       "      <th>purpose</th>\n",
       "      <td>purpose</td>\n",
       "      <td>object</td>\n",
       "      <td>0</td>\n",
       "      <td>0.000000</td>\n",
       "    </tr>\n",
       "    <tr>\n",
       "      <th>title</th>\n",
       "      <td>title</td>\n",
       "      <td>object</td>\n",
       "      <td>1755</td>\n",
       "      <td>0.443148</td>\n",
       "    </tr>\n",
       "    <tr>\n",
       "      <th>dti</th>\n",
       "      <td>dti</td>\n",
       "      <td>float64</td>\n",
       "      <td>0</td>\n",
       "      <td>0.000000</td>\n",
       "    </tr>\n",
       "    <tr>\n",
       "      <th>earliest_cr_line</th>\n",
       "      <td>earliest_cr_line</td>\n",
       "      <td>object</td>\n",
       "      <td>0</td>\n",
       "      <td>0.000000</td>\n",
       "    </tr>\n",
       "    <tr>\n",
       "      <th>open_acc</th>\n",
       "      <td>open_acc</td>\n",
       "      <td>float64</td>\n",
       "      <td>0</td>\n",
       "      <td>0.000000</td>\n",
       "    </tr>\n",
       "    <tr>\n",
       "      <th>pub_rec</th>\n",
       "      <td>pub_rec</td>\n",
       "      <td>float64</td>\n",
       "      <td>0</td>\n",
       "      <td>0.000000</td>\n",
       "    </tr>\n",
       "    <tr>\n",
       "      <th>revol_bal</th>\n",
       "      <td>revol_bal</td>\n",
       "      <td>float64</td>\n",
       "      <td>0</td>\n",
       "      <td>0.000000</td>\n",
       "    </tr>\n",
       "    <tr>\n",
       "      <th>revol_util</th>\n",
       "      <td>revol_util</td>\n",
       "      <td>float64</td>\n",
       "      <td>276</td>\n",
       "      <td>0.069692</td>\n",
       "    </tr>\n",
       "    <tr>\n",
       "      <th>total_acc</th>\n",
       "      <td>total_acc</td>\n",
       "      <td>float64</td>\n",
       "      <td>0</td>\n",
       "      <td>0.000000</td>\n",
       "    </tr>\n",
       "    <tr>\n",
       "      <th>initial_list_status</th>\n",
       "      <td>initial_list_status</td>\n",
       "      <td>object</td>\n",
       "      <td>0</td>\n",
       "      <td>0.000000</td>\n",
       "    </tr>\n",
       "    <tr>\n",
       "      <th>application_type</th>\n",
       "      <td>application_type</td>\n",
       "      <td>object</td>\n",
       "      <td>0</td>\n",
       "      <td>0.000000</td>\n",
       "    </tr>\n",
       "    <tr>\n",
       "      <th>mort_acc</th>\n",
       "      <td>mort_acc</td>\n",
       "      <td>float64</td>\n",
       "      <td>0</td>\n",
       "      <td>0.000000</td>\n",
       "    </tr>\n",
       "    <tr>\n",
       "      <th>pub_rec_bankruptcies</th>\n",
       "      <td>pub_rec_bankruptcies</td>\n",
       "      <td>float64</td>\n",
       "      <td>535</td>\n",
       "      <td>0.135091</td>\n",
       "    </tr>\n",
       "    <tr>\n",
       "      <th>address</th>\n",
       "      <td>address</td>\n",
       "      <td>object</td>\n",
       "      <td>0</td>\n",
       "      <td>0.000000</td>\n",
       "    </tr>\n",
       "    <tr>\n",
       "      <th>status</th>\n",
       "      <td>status</td>\n",
       "      <td>int64</td>\n",
       "      <td>0</td>\n",
       "      <td>0.000000</td>\n",
       "    </tr>\n",
       "  </tbody>\n",
       "</table>\n",
       "</div>"
      ],
      "text/plain": [
       "                                     nomes    tipos  NA #      NA %\n",
       "loan_amnt                        loan_amnt  float64     0  0.000000\n",
       "term                                  term   object     0  0.000000\n",
       "int_rate                          int_rate  float64     0  0.000000\n",
       "installment                    installment  float64     0  0.000000\n",
       "grade                                grade   object     0  0.000000\n",
       "sub_grade                        sub_grade   object     0  0.000000\n",
       "home_ownership              home_ownership   object     0  0.000000\n",
       "annual_inc                      annual_inc  float64     0  0.000000\n",
       "verification_status    verification_status   object     0  0.000000\n",
       "issue_d                            issue_d   object     0  0.000000\n",
       "loan_status                    loan_status   object     0  0.000000\n",
       "purpose                            purpose   object     0  0.000000\n",
       "title                                title   object  1755  0.443148\n",
       "dti                                    dti  float64     0  0.000000\n",
       "earliest_cr_line          earliest_cr_line   object     0  0.000000\n",
       "open_acc                          open_acc  float64     0  0.000000\n",
       "pub_rec                            pub_rec  float64     0  0.000000\n",
       "revol_bal                        revol_bal  float64     0  0.000000\n",
       "revol_util                      revol_util  float64   276  0.069692\n",
       "total_acc                        total_acc  float64     0  0.000000\n",
       "initial_list_status    initial_list_status   object     0  0.000000\n",
       "application_type          application_type   object     0  0.000000\n",
       "mort_acc                          mort_acc  float64     0  0.000000\n",
       "pub_rec_bankruptcies  pub_rec_bankruptcies  float64   535  0.135091\n",
       "address                            address   object     0  0.000000\n",
       "status                              status    int64     0  0.000000"
      ]
     },
     "execution_count": 54,
     "metadata": {},
     "output_type": "execute_result"
    }
   ],
   "source": [
    "pd.DataFrame({'nomes' : df.columns, 'tipos' : df.dtypes,\n",
    "                           'NA #': df.isna().sum(), 'NA %' : (df.isna().sum() / df.shape[0]) * 100})"
   ]
  },
  {
   "cell_type": "code",
   "execution_count": 55,
   "id": "e718b69a-91e1-4d02-bcd5-0d16b487223f",
   "metadata": {},
   "outputs": [],
   "source": [
    "# dropping title, revol_util and pub_rec_bankruptcies rows\n",
    "\n",
    "df.dropna(inplace=True)"
   ]
  },
  {
   "cell_type": "code",
   "execution_count": 56,
   "id": "4fba2831-d7e0-4161-b93d-f3a24dce8216",
   "metadata": {},
   "outputs": [],
   "source": [
    "# we saw that grade and subgrade bring similar information and sub_grade is more informative, so let's drop grade\n",
    "\n",
    "df.drop('grade', axis=1, inplace=True)"
   ]
  },
  {
   "cell_type": "code",
   "execution_count": 57,
   "id": "30a4bedf-4c9e-4bd5-bb2e-aa806cebac1e",
   "metadata": {},
   "outputs": [
    {
     "name": "stdout",
     "output_type": "stream",
     "text": [
      "<class 'pandas.core.frame.DataFrame'>\n",
      "Int64Index: 393465 entries, 0 to 396029\n",
      "Data columns (total 15 columns):\n",
      " #   Column               Non-Null Count   Dtype  \n",
      "---  ------               --------------   -----  \n",
      " 0   term                 393465 non-null  object \n",
      " 1   int_rate             393465 non-null  float64\n",
      " 2   home_ownership       393465 non-null  object \n",
      " 3   annual_inc           393465 non-null  float64\n",
      " 4   verification_status  393465 non-null  object \n",
      " 5   issue_d              393465 non-null  object \n",
      " 6   purpose              393465 non-null  object \n",
      " 7   dti                  393465 non-null  float64\n",
      " 8   earliest_cr_line     393465 non-null  object \n",
      " 9   open_acc             393465 non-null  float64\n",
      " 10  pub_rec              393465 non-null  float64\n",
      " 11  revol_bal            393465 non-null  float64\n",
      " 12  initial_list_status  393465 non-null  object \n",
      " 13  application_type     393465 non-null  object \n",
      " 14  address              393465 non-null  object \n",
      "dtypes: float64(6), object(9)\n",
      "memory usage: 48.0+ MB\n"
     ]
    }
   ],
   "source": [
    "# we already saw:\n",
    "# loan_amnt, installment, sub_grade, title, revol_util, total_acc, mort_acc, pub_rec_bankruptcies, status\n",
    "# let's have a look at the remaining columns 'term', 'int_rate', 'home_ownership', 'annual_inc', 'verification_status', 'issue_d', 'purpose', 'dti', 'earliest_cr_line', 'open_acc', 'pub_rec',\n",
    "#       'revol_bal', 'initial_list_status', 'application_type', 'address'\n",
    "\n",
    "df[['term', 'int_rate', 'home_ownership', 'annual_inc', 'verification_status', 'issue_d', 'purpose', 'dti', 'earliest_cr_line', 'open_acc', 'pub_rec','revol_bal', 'initial_list_status', 'application_type', 'address']].info()"
   ]
  },
  {
   "cell_type": "markdown",
   "id": "6d921814-214f-4b6c-930c-5cb5cd5d5c4e",
   "metadata": {},
   "source": [
    "##### term"
   ]
  },
  {
   "cell_type": "code",
   "execution_count": 58,
   "id": "c4de42eb-8a69-466b-b1bb-882dcf139e25",
   "metadata": {},
   "outputs": [
    {
     "name": "stdout",
     "output_type": "stream",
     "text": [
      "The number of payments on the loan. Values are in months and can be either 36 or 60.\n"
     ]
    }
   ],
   "source": [
    "feat_info('term')"
   ]
  },
  {
   "cell_type": "code",
   "execution_count": 59,
   "id": "06f1ead2-f5c7-4cf7-ad53-678c0352527c",
   "metadata": {},
   "outputs": [
    {
     "data": {
      "text/plain": [
       "array([' 36 months', ' 60 months'], dtype=object)"
      ]
     },
     "execution_count": 59,
     "metadata": {},
     "output_type": "execute_result"
    }
   ],
   "source": [
    "df['term'].unique()"
   ]
  },
  {
   "cell_type": "code",
   "execution_count": 60,
   "id": "b5d3f9a0-c8f1-45d7-889c-872f22a2e393",
   "metadata": {},
   "outputs": [
    {
     "data": {
      "text/plain": [
       "<AxesSubplot:xlabel='term', ylabel='count'>"
      ]
     },
     "execution_count": 60,
     "metadata": {},
     "output_type": "execute_result"
    },
    {
     "data": {
      "image/png": "[encoded data removed]",
      "text/plain": [
       "<Figure size 432x288 with 1 Axes>"
      ]
     },
     "metadata": {},
     "output_type": "display_data"
    }
   ],
   "source": [
    "sns.countplot(data=df, x='term', hue='loan_status')\n",
    "\n",
    "# seems like the 36 months category has a bigger percentage of Fully Paid loans"
   ]
  },
  {
   "cell_type": "code",
   "execution_count": 61,
   "id": "eb8d683f-f57c-4814-a22a-948ab02273ea",
   "metadata": {},
   "outputs": [],
   "source": [
    "# map term to int values\n",
    "\n",
    "df['term'] = df['term'].map({' 36 months':36, ' 60 months':60})"
   ]
  },
  {
   "cell_type": "markdown",
   "id": "c99bd8a4-c0e1-4ac0-9ad5-4e7b41fae6e9",
   "metadata": {},
   "source": [
    "##### int_rate"
   ]
  },
  {
   "cell_type": "code",
   "execution_count": 62,
   "id": "12b26f2e-20ea-4e7d-8f4d-75cae0eea087",
   "metadata": {},
   "outputs": [
    {
     "name": "stdout",
     "output_type": "stream",
     "text": [
      "Interest Rate on the loan\n"
     ]
    }
   ],
   "source": [
    "feat_info('int_rate')"
   ]
  },
  {
   "cell_type": "code",
   "execution_count": 63,
   "id": "b7b09def-b449-433e-8d96-62ff993b94b0",
   "metadata": {},
   "outputs": [
    {
     "data": {
      "text/plain": [
       "532"
      ]
     },
     "execution_count": 63,
     "metadata": {},
     "output_type": "execute_result"
    }
   ],
   "source": [
    "df['int_rate'].nunique()"
   ]
  },
  {
   "cell_type": "code",
   "execution_count": 64,
   "id": "77ee958c-ea81-4b45-b86d-640542345ba8",
   "metadata": {},
   "outputs": [
    {
     "data": {
      "text/plain": [
       "<seaborn.axisgrid.FacetGrid at 0x7fe7c00582e0>"
      ]
     },
     "execution_count": 64,
     "metadata": {},
     "output_type": "execute_result"
    },
    {
     "data": {
      "image/png": "[encoded data removed]",
      "text/plain": [
       "<Figure size 1392.38x432 with 1 Axes>"
      ]
     },
     "metadata": {},
     "output_type": "display_data"
    }
   ],
   "source": [
    "sns.displot(data=df, x='int_rate', aspect=3, height=6, hue='loan_status', multiple='dodge')\n",
    "\n",
    "# the bigger the int_rate, the bigger the percentage Charged Off, it makes sense..."
   ]
  },
  {
   "cell_type": "markdown",
   "id": "eacaa744-6977-46c5-aef7-bccfedfb7893",
   "metadata": {},
   "source": [
    "##### home_ownership"
   ]
  },
  {
   "cell_type": "code",
   "execution_count": 65,
   "id": "dc2219cb-4b9c-4b53-bc3e-d7f14a5045a1",
   "metadata": {},
   "outputs": [
    {
     "name": "stdout",
     "output_type": "stream",
     "text": [
      "The home ownership status provided by the borrower during registration or obtained from the credit report. Our values are: RENT, OWN, MORTGAGE, OTHER\n"
     ]
    }
   ],
   "source": [
    "feat_info('home_ownership')"
   ]
  },
  {
   "cell_type": "code",
   "execution_count": 66,
   "id": "a0e5599c-1d34-4212-8d11-f1f73dfe8fff",
   "metadata": {},
   "outputs": [
    {
     "data": {
      "text/plain": [
       "array(['RENT', 'MORTGAGE', 'OWN', 'OTHER', 'ANY', 'NONE'], dtype=object)"
      ]
     },
     "execution_count": 66,
     "metadata": {},
     "output_type": "execute_result"
    }
   ],
   "source": [
    "df['home_ownership'].unique()"
   ]
  },
  {
   "cell_type": "code",
   "execution_count": 67,
   "id": "c2d8dea4-23a7-4b3c-98e1-a8332f83d59a",
   "metadata": {},
   "outputs": [
    {
     "data": {
      "text/plain": [
       "<AxesSubplot:xlabel='home_ownership', ylabel='count'>"
      ]
     },
     "execution_count": 67,
     "metadata": {},
     "output_type": "execute_result"
    },
    {
     "data": {
      "image/png": "[encoded data removed]",
      "text/plain": [
       "<Figure size 432x288 with 1 Axes>"
      ]
     },
     "metadata": {},
     "output_type": "display_data"
    }
   ],
   "source": [
    "sns.countplot(data=df, x='home_ownership')\n",
    "\n",
    "# ANY and NONE can be added to the OTHER category"
   ]
  },
  {
   "cell_type": "code",
   "execution_count": 68,
   "id": "365849b5-67f9-4263-a1f8-bf41605e8a57",
   "metadata": {},
   "outputs": [],
   "source": [
    "df.loc[(df['home_ownership']=='ANY')|(df['home_ownership']=='NONE'), 'home_ownership'] = 'OTHER'"
   ]
  },
  {
   "cell_type": "markdown",
   "id": "24ab3256-8015-404e-99ea-baf8ae464f9b",
   "metadata": {},
   "source": [
    "##### annual_inc"
   ]
  },
  {
   "cell_type": "code",
   "execution_count": 69,
   "id": "01a99955-cb1a-46ed-838e-41dd41642488",
   "metadata": {},
   "outputs": [
    {
     "name": "stdout",
     "output_type": "stream",
     "text": [
      "The self-reported annual income provided by the borrower during registration.\n"
     ]
    }
   ],
   "source": [
    "feat_info('annual_inc')"
   ]
  },
  {
   "cell_type": "code",
   "execution_count": 70,
   "id": "21315a5e-5ee8-4bb1-b490-b4a2df14cdfe",
   "metadata": {},
   "outputs": [
    {
     "data": {
      "text/plain": [
       "27050"
      ]
     },
     "execution_count": 70,
     "metadata": {},
     "output_type": "execute_result"
    }
   ],
   "source": [
    "df['annual_inc'].nunique()"
   ]
  },
  {
   "cell_type": "code",
   "execution_count": 71,
   "id": "57985f81-22a6-45bb-aded-0f07f1a5416d",
   "metadata": {
    "tags": []
   },
   "outputs": [
    {
     "data": {
      "text/plain": [
       "<seaborn.axisgrid.FacetGrid at 0x7fe7bffcb970>"
      ]
     },
     "execution_count": 71,
     "metadata": {},
     "output_type": "execute_result"
    },
    {
     "data": {
      "image/png": "[encoded data removed]",
      "text/plain": [
       "<Figure size 1392.38x432 with 1 Axes>"
      ]
     },
     "metadata": {},
     "output_type": "display_data"
    }
   ],
   "source": [
    "sns.displot(data=df.loc[df['annual_inc']<200000], x='annual_inc', aspect=3, height=6, hue='loan_status', multiple='dodge')\n",
    "\n",
    "# this information seems to have some correltion as the annual_inc numbers increase"
   ]
  },
  {
   "cell_type": "code",
   "execution_count": 72,
   "id": "ba31713c-86c2-4b82-a5e2-f9ab1cd5ae90",
   "metadata": {},
   "outputs": [
    {
     "data": {
      "text/html": [
       "<div>\n",
       "<style scoped>\n",
       "    .dataframe tbody tr th:only-of-type {\n",
       "        vertical-align: middle;\n",
       "    }\n",
       "\n",
       "    .dataframe tbody tr th {\n",
       "        vertical-align: top;\n",
       "    }\n",
       "\n",
       "    .dataframe thead th {\n",
       "        text-align: right;\n",
       "    }\n",
       "</style>\n",
       "<table border=\"1\" class=\"dataframe\">\n",
       "  <thead>\n",
       "    <tr style=\"text-align: right;\">\n",
       "      <th></th>\n",
       "      <th>count</th>\n",
       "      <th>mean</th>\n",
       "      <th>std</th>\n",
       "      <th>min</th>\n",
       "      <th>25%</th>\n",
       "      <th>50%</th>\n",
       "      <th>75%</th>\n",
       "      <th>max</th>\n",
       "    </tr>\n",
       "    <tr>\n",
       "      <th>loan_status</th>\n",
       "      <th></th>\n",
       "      <th></th>\n",
       "      <th></th>\n",
       "      <th></th>\n",
       "      <th></th>\n",
       "      <th></th>\n",
       "      <th></th>\n",
       "      <th></th>\n",
       "    </tr>\n",
       "  </thead>\n",
       "  <tbody>\n",
       "    <tr>\n",
       "      <th>Charged Off</th>\n",
       "      <td>77194.0</td>\n",
       "      <td>67543.753728</td>\n",
       "      <td>58391.235997</td>\n",
       "      <td>0.0</td>\n",
       "      <td>42000.0</td>\n",
       "      <td>59000.0</td>\n",
       "      <td>80000.0</td>\n",
       "      <td>8706582.0</td>\n",
       "    </tr>\n",
       "    <tr>\n",
       "      <th>Fully Paid</th>\n",
       "      <td>316271.0</td>\n",
       "      <td>75839.921579</td>\n",
       "      <td>62284.928972</td>\n",
       "      <td>600.0</td>\n",
       "      <td>46200.0</td>\n",
       "      <td>65000.0</td>\n",
       "      <td>90000.0</td>\n",
       "      <td>7600000.0</td>\n",
       "    </tr>\n",
       "  </tbody>\n",
       "</table>\n",
       "</div>"
      ],
      "text/plain": [
       "                count          mean           std    min      25%      50%  \\\n",
       "loan_status                                                                  \n",
       "Charged Off   77194.0  67543.753728  58391.235997    0.0  42000.0  59000.0   \n",
       "Fully Paid   316271.0  75839.921579  62284.928972  600.0  46200.0  65000.0   \n",
       "\n",
       "                 75%        max  \n",
       "loan_status                      \n",
       "Charged Off  80000.0  8706582.0  \n",
       "Fully Paid   90000.0  7600000.0  "
      ]
     },
     "execution_count": 72,
     "metadata": {},
     "output_type": "execute_result"
    }
   ],
   "source": [
    "df.groupby('loan_status')['annual_inc'].describe()"
   ]
  },
  {
   "cell_type": "markdown",
   "id": "3ad4f9db-e5f2-422e-933e-55ae97674b5a",
   "metadata": {},
   "source": [
    "##### verification_status"
   ]
  },
  {
   "cell_type": "code",
   "execution_count": 73,
   "id": "0929f065-4e9b-459e-b7ae-b0a74d3858b5",
   "metadata": {},
   "outputs": [
    {
     "name": "stdout",
     "output_type": "stream",
     "text": [
      "Indicates if income was verified by LC, not verified, or if the income source was verified\n"
     ]
    }
   ],
   "source": [
    "feat_info('verification_status')"
   ]
  },
  {
   "cell_type": "code",
   "execution_count": 74,
   "id": "b821fe14-960b-4cd7-9cc8-884030c76765",
   "metadata": {},
   "outputs": [
    {
     "data": {
      "text/plain": [
       "array(['Not Verified', 'Source Verified', 'Verified'], dtype=object)"
      ]
     },
     "execution_count": 74,
     "metadata": {},
     "output_type": "execute_result"
    }
   ],
   "source": [
    "df['verification_status'].unique()"
   ]
  },
  {
   "cell_type": "code",
   "execution_count": 75,
   "id": "a832255a-4900-4fc1-bbaa-6dfa5a1b1ab6",
   "metadata": {},
   "outputs": [
    {
     "data": {
      "text/plain": [
       "<AxesSubplot:xlabel='verification_status', ylabel='count'>"
      ]
     },
     "execution_count": 75,
     "metadata": {},
     "output_type": "execute_result"
    },
    {
     "data": {
      "image/png": "[encoded data removed]",
      "text/plain": [
       "<Figure size 432x288 with 1 Axes>"
      ]
     },
     "metadata": {},
     "output_type": "display_data"
    }
   ],
   "source": [
    "sns.countplot(data=df, x='verification_status', hue='loan_status')"
   ]
  },
  {
   "cell_type": "code",
   "execution_count": 76,
   "id": "a4fadf63-4095-429f-a0d0-8b37b3823dd0",
   "metadata": {},
   "outputs": [
    {
     "data": {
      "text/plain": [
       "verification_status\n",
       "Not Verified       0.171237\n",
       "Source Verified    0.273926\n",
       "Verified           0.287212\n",
       "Name: loan_status, dtype: float64"
      ]
     },
     "execution_count": 76,
     "metadata": {},
     "output_type": "execute_result"
    }
   ],
   "source": [
    "df.loc[df['loan_status']=='Charged Off'].groupby('verification_status').count()['loan_status']/df.loc[df['loan_status']=='Fully Paid'].groupby('verification_status').count()['loan_status']\n",
    "\n",
    "# there's no big difference between the verification status, may we drop the column"
   ]
  },
  {
   "cell_type": "markdown",
   "id": "74f0a37c-2b43-4009-8f81-e93dbadf742d",
   "metadata": {},
   "source": [
    "##### issue_d"
   ]
  },
  {
   "cell_type": "code",
   "execution_count": 77,
   "id": "403f2e4a-c5ce-48a8-b28c-9c88331bda14",
   "metadata": {},
   "outputs": [
    {
     "name": "stdout",
     "output_type": "stream",
     "text": [
      "The month which the loan was funded\n"
     ]
    }
   ],
   "source": [
    "feat_info('issue_d')"
   ]
  },
  {
   "cell_type": "code",
   "execution_count": 78,
   "id": "241930f1-ad18-4f39-be5b-84ebbeb8325f",
   "metadata": {},
   "outputs": [
    {
     "data": {
      "text/plain": [
       "array(['Jan-2015', 'Nov-2014', 'Apr-2013', 'Sep-2015', 'Sep-2012',\n",
       "       'Oct-2014', 'Apr-2012', 'Jun-2013', 'May-2014', 'Dec-2015',\n",
       "       'Apr-2015', 'Oct-2012', 'Jul-2014', 'Feb-2013', 'Oct-2015',\n",
       "       'Jan-2014', 'Mar-2016', 'Apr-2014', 'Jun-2011', 'Apr-2010',\n",
       "       'Jun-2014', 'Oct-2013', 'May-2013', 'Feb-2015', 'Oct-2011',\n",
       "       'Jun-2015', 'Aug-2013', 'Feb-2014', 'Dec-2011', 'Mar-2013',\n",
       "       'Jun-2016', 'Mar-2014', 'Nov-2013', 'Dec-2014', 'Apr-2016',\n",
       "       'Sep-2013', 'May-2016', 'Jul-2015', 'Jul-2013', 'Aug-2014',\n",
       "       'May-2008', 'Mar-2010', 'Dec-2013', 'Mar-2012', 'Mar-2015',\n",
       "       'Sep-2011', 'Jul-2012', 'Dec-2012', 'Sep-2014', 'Nov-2012',\n",
       "       'Nov-2015', 'Jan-2011', 'May-2012', 'Feb-2016', 'Jun-2012',\n",
       "       'Aug-2012', 'Jan-2016', 'May-2015', 'Oct-2016', 'Aug-2015',\n",
       "       'Jul-2016', 'May-2009', 'Aug-2016', 'Jan-2012', 'Jan-2013',\n",
       "       'Nov-2010', 'Jul-2011', 'Mar-2011', 'Feb-2012', 'May-2011',\n",
       "       'Aug-2010', 'Nov-2016', 'Jul-2010', 'Sep-2010', 'Dec-2010',\n",
       "       'Feb-2011', 'Jun-2009', 'Aug-2011', 'Dec-2016', 'Mar-2009',\n",
       "       'Jun-2010', 'May-2010', 'Nov-2011', 'Sep-2016', 'Oct-2009',\n",
       "       'Nov-2008', 'Dec-2009', 'Oct-2010', 'Sep-2009', 'Aug-2009',\n",
       "       'Jul-2009', 'Nov-2009', 'Jan-2010', 'Dec-2008', 'Feb-2009',\n",
       "       'Oct-2008', 'Apr-2009', 'Feb-2010', 'Apr-2011', 'Apr-2008',\n",
       "       'Aug-2008', 'Jan-2009', 'Sep-2008', 'Jun-2008', 'Jul-2008',\n",
       "       'Mar-2008', 'Oct-2007', 'Dec-2007', 'Feb-2008', 'Jan-2008',\n",
       "       'Nov-2007', 'Aug-2007'], dtype=object)"
      ]
     },
     "execution_count": 78,
     "metadata": {},
     "output_type": "execute_result"
    }
   ],
   "source": [
    "df['issue_d'].unique()\n",
    "\n",
    "# this information are not too useful in our case, we can drop it"
   ]
  },
  {
   "cell_type": "code",
   "execution_count": 79,
   "id": "634b768d-f330-4635-8009-dc4168250822",
   "metadata": {},
   "outputs": [],
   "source": [
    "df.drop('issue_d', axis=1, inplace=True)"
   ]
  },
  {
   "cell_type": "markdown",
   "id": "6b13414e-0e56-4e7f-a18d-84a01f0db42d",
   "metadata": {},
   "source": [
    "##### purpose"
   ]
  },
  {
   "cell_type": "code",
   "execution_count": 80,
   "id": "7c1e4beb-4864-4af9-9bf0-03b1c1405435",
   "metadata": {},
   "outputs": [
    {
     "name": "stdout",
     "output_type": "stream",
     "text": [
      "A category provided by the borrower for the loan request. \n"
     ]
    }
   ],
   "source": [
    "feat_info('purpose')"
   ]
  },
  {
   "cell_type": "code",
   "execution_count": 81,
   "id": "83a7f097-8dcc-4909-9972-4b3153ed0576",
   "metadata": {},
   "outputs": [
    {
     "data": {
      "text/plain": [
       "array(['vacation', 'debt_consolidation', 'credit_card',\n",
       "       'home_improvement', 'small_business', 'major_purchase', 'other',\n",
       "       'medical', 'wedding', 'car', 'moving', 'house', 'educational',\n",
       "       'renewable_energy'], dtype=object)"
      ]
     },
     "execution_count": 81,
     "metadata": {},
     "output_type": "execute_result"
    }
   ],
   "source": [
    "df['purpose'].unique()\n",
    "\n",
    "# this looks a lot like the title category"
   ]
  },
  {
   "cell_type": "code",
   "execution_count": 82,
   "id": "87939a11-ca1a-4341-b98f-bc24ffffc5d9",
   "metadata": {},
   "outputs": [
    {
     "data": {
      "text/plain": [
       "array(['Vacation', 'Debt consolidation', 'Credit card refinancing', ...,\n",
       "       'Credit buster ', 'Loanforpayoff', 'Toxic Debt Payoff'],\n",
       "      dtype=object)"
      ]
     },
     "execution_count": 82,
     "metadata": {},
     "output_type": "execute_result"
    }
   ],
   "source": [
    "df['title'].unique()"
   ]
  },
  {
   "cell_type": "code",
   "execution_count": 83,
   "id": "c4a30366-fb90-48cf-8a1b-83b0640b8ab8",
   "metadata": {},
   "outputs": [
    {
     "data": {
      "text/plain": [
       "48472"
      ]
     },
     "execution_count": 83,
     "metadata": {},
     "output_type": "execute_result"
    }
   ],
   "source": [
    "df['title'].nunique()\n",
    "\n",
    "# we'll drop the column title because these two columns are redundant and the title columns are much bigger than the purpose column"
   ]
  },
  {
   "cell_type": "code",
   "execution_count": 84,
   "id": "f4daf70c-d045-4279-abd8-e6464a888b84",
   "metadata": {},
   "outputs": [],
   "source": [
    "df.drop('title', axis=1, inplace=True)"
   ]
  },
  {
   "cell_type": "markdown",
   "id": "b773696b-95e5-4cfb-8396-5b1b19e96218",
   "metadata": {},
   "source": [
    "##### dti"
   ]
  },
  {
   "cell_type": "code",
   "execution_count": 85,
   "id": "bd13683e-bb3b-4fc1-852f-c5946e6a8d61",
   "metadata": {},
   "outputs": [
    {
     "name": "stdout",
     "output_type": "stream",
     "text": [
      "A ratio calculated using the borrower’s total monthly debt payments on the total debt obligations, excluding mortgage and the requested LC loan, divided by the borrower’s self-reported monthly income.\n"
     ]
    }
   ],
   "source": [
    "feat_info('dti')"
   ]
  },
  {
   "cell_type": "code",
   "execution_count": 86,
   "id": "8f8f66aa-b511-4f0f-b2c0-87a326e763b6",
   "metadata": {},
   "outputs": [
    {
     "data": {
      "text/plain": [
       "array([26.24, 22.05, 12.79, ..., 40.56, 47.09, 55.53])"
      ]
     },
     "execution_count": 86,
     "metadata": {},
     "output_type": "execute_result"
    }
   ],
   "source": [
    "df['dti'].unique()"
   ]
  },
  {
   "cell_type": "code",
   "execution_count": 87,
   "id": "c57bd4dd-0b3b-4663-b439-45d976585e18",
   "metadata": {},
   "outputs": [
    {
     "data": {
      "text/plain": [
       "<seaborn.axisgrid.FacetGrid at 0x7fe7c01ab850>"
      ]
     },
     "execution_count": 87,
     "metadata": {},
     "output_type": "execute_result"
    },
    {
     "data": {
      "image/png": "[encoded data removed]",
      "text/plain": [
       "<Figure size 1896.38x360 with 1 Axes>"
      ]
     },
     "metadata": {},
     "output_type": "display_data"
    }
   ],
   "source": [
    "sns.displot(data=df.loc[df['dti']<200], x='dti', hue='loan_status', aspect=5, multiple='dodge')"
   ]
  },
  {
   "cell_type": "code",
   "execution_count": 88,
   "id": "47f6e851-0994-4200-a01b-c14fc9be7c4c",
   "metadata": {},
   "outputs": [
    {
     "data": {
      "text/plain": [
       "dti            1.000000\n",
       "installment    0.015475\n",
       "annual_inc    -0.081409\n",
       "Name: dti, dtype: float64"
      ]
     },
     "execution_count": 88,
     "metadata": {},
     "output_type": "execute_result"
    }
   ],
   "source": [
    "# this metric is the relation between two other metrics that are also in our data, so let's look at it's correlations\n",
    "# seems that there's no high correlation between the features, so let's keep all of it\n",
    "\n",
    "df[['dti', 'installment', 'annual_inc']].corr()['dti']"
   ]
  },
  {
   "cell_type": "markdown",
   "id": "a1c56da0-b9fb-4985-ad7c-8d671b0462d2",
   "metadata": {},
   "source": [
    "##### earliest_cr_line"
   ]
  },
  {
   "cell_type": "code",
   "execution_count": 89,
   "id": "2e20f3f8-9a40-4c48-b1e3-8dd91bc57cfd",
   "metadata": {},
   "outputs": [
    {
     "name": "stdout",
     "output_type": "stream",
     "text": [
      "The month the borrower's earliest reported credit line was opened\n"
     ]
    }
   ],
   "source": [
    "feat_info('earliest_cr_line')"
   ]
  },
  {
   "cell_type": "code",
   "execution_count": 90,
   "id": "532b92ad-57eb-4b9d-b35b-09b6b563ccbf",
   "metadata": {},
   "outputs": [
    {
     "data": {
      "text/plain": [
       "683"
      ]
     },
     "execution_count": 90,
     "metadata": {},
     "output_type": "execute_result"
    }
   ],
   "source": [
    "df['earliest_cr_line'].nunique()"
   ]
  },
  {
   "cell_type": "code",
   "execution_count": 91,
   "id": "efd4344e-5550-45a8-8842-6dca2783e9e3",
   "metadata": {},
   "outputs": [],
   "source": [
    "# df['earliest_cr_line'].unique()\n",
    "\n",
    "# let's extract the year"
   ]
  },
  {
   "cell_type": "code",
   "execution_count": 92,
   "id": "734dc095-4523-4685-aefc-82d490499a70",
   "metadata": {},
   "outputs": [],
   "source": [
    "df['earliest_cr_year'] = df['earliest_cr_line'].apply(lambda date:int(date[-4:]))\n",
    "df.drop('earliest_cr_line', axis=1, inplace=True)"
   ]
  },
  {
   "cell_type": "markdown",
   "id": "f87a471f-7452-495a-a693-2d293666b2e9",
   "metadata": {},
   "source": [
    "##### open_acc"
   ]
  },
  {
   "cell_type": "code",
   "execution_count": 93,
   "id": "42788c24-1cca-413f-b59c-f04f61fc0bbe",
   "metadata": {},
   "outputs": [
    {
     "name": "stdout",
     "output_type": "stream",
     "text": [
      "The number of open credit lines in the borrower's credit file.\n"
     ]
    }
   ],
   "source": [
    "feat_info('open_acc')"
   ]
  },
  {
   "cell_type": "code",
   "execution_count": 94,
   "id": "f4718289-e0ec-43c2-8190-e18755ef0ca4",
   "metadata": {},
   "outputs": [
    {
     "data": {
      "text/plain": [
       "array([16., 17., 13.,  6.,  8., 11.,  5., 30.,  9., 15., 12., 10., 18.,\n",
       "        7.,  4., 14., 20., 19., 21., 23.,  3., 26., 42., 22., 25., 28.,\n",
       "        2., 34., 24., 27., 31., 32., 33.,  1., 29., 36., 40., 35., 37.,\n",
       "       41., 44., 39., 49., 48., 38., 51., 50., 43., 46., 47., 57., 53.,\n",
       "       58., 52., 54., 45., 90., 56., 55., 76.])"
      ]
     },
     "execution_count": 94,
     "metadata": {},
     "output_type": "execute_result"
    }
   ],
   "source": [
    "df['open_acc'].unique()"
   ]
  },
  {
   "cell_type": "markdown",
   "id": "c50fbf07-7132-4c44-9fa3-8f86718e006b",
   "metadata": {},
   "source": [
    "##### pub_rec"
   ]
  },
  {
   "cell_type": "code",
   "execution_count": 95,
   "id": "bf179759-49b4-4659-90f0-3175f964d5a7",
   "metadata": {},
   "outputs": [
    {
     "name": "stdout",
     "output_type": "stream",
     "text": [
      "Number of derogatory public records\n"
     ]
    }
   ],
   "source": [
    "feat_info('pub_rec')"
   ]
  },
  {
   "cell_type": "code",
   "execution_count": 96,
   "id": "f58b8d18-fc85-4f43-bafb-40a3bc66f5ac",
   "metadata": {},
   "outputs": [
    {
     "data": {
      "text/plain": [
       "array([ 0.,  1.,  2.,  3.,  4.,  6.,  5.,  8.,  9., 10., 11.,  7., 19.,\n",
       "       13., 40., 17., 86., 12., 24., 15.])"
      ]
     },
     "execution_count": 96,
     "metadata": {},
     "output_type": "execute_result"
    }
   ],
   "source": [
    "df['pub_rec'].unique()"
   ]
  },
  {
   "cell_type": "code",
   "execution_count": 97,
   "id": "0295c1eb-210f-4dd7-ad85-ed405c523c71",
   "metadata": {},
   "outputs": [
    {
     "data": {
      "text/plain": [
       "<AxesSubplot:xlabel='pub_rec', ylabel='count'>"
      ]
     },
     "execution_count": 97,
     "metadata": {},
     "output_type": "execute_result"
    },
    {
     "data": {
      "image/png": "[encoded data removed]",
      "text/plain": [
       "<Figure size 720x576 with 1 Axes>"
      ]
     },
     "metadata": {},
     "output_type": "display_data"
    }
   ],
   "source": [
    "plt.figure(figsize=(10,8))\n",
    "sns.countplot(data=df, x='pub_rec', hue='loan_status')"
   ]
  },
  {
   "cell_type": "markdown",
   "id": "149b26b1-b139-4f15-974f-a21cdd172fbc",
   "metadata": {},
   "source": [
    "##### reavol_bal"
   ]
  },
  {
   "cell_type": "code",
   "execution_count": 98,
   "id": "039812fe-bd2d-4d9d-9a5e-02dec18f66c8",
   "metadata": {},
   "outputs": [
    {
     "name": "stdout",
     "output_type": "stream",
     "text": [
      "Total credit revolving balance\n"
     ]
    }
   ],
   "source": [
    "feat_info('revol_bal')"
   ]
  },
  {
   "cell_type": "code",
   "execution_count": 99,
   "id": "8dee13ff-2d97-4585-8570-a53a76f10be8",
   "metadata": {},
   "outputs": [
    {
     "data": {
      "text/plain": [
       "55491"
      ]
     },
     "execution_count": 99,
     "metadata": {},
     "output_type": "execute_result"
    }
   ],
   "source": [
    "df['revol_bal'].nunique()"
   ]
  },
  {
   "cell_type": "code",
   "execution_count": 100,
   "id": "4b754ba7-8d58-44fd-9c52-39e533e34ace",
   "metadata": {},
   "outputs": [
    {
     "data": {
      "text/plain": [
       "<seaborn.axisgrid.FacetGrid at 0x7fe7bfc79c40>"
      ]
     },
     "execution_count": 100,
     "metadata": {},
     "output_type": "execute_result"
    },
    {
     "data": {
      "image/png": "[encoded data removed]",
      "text/plain": [
       "<Figure size 1176.38x360 with 1 Axes>"
      ]
     },
     "metadata": {},
     "output_type": "display_data"
    }
   ],
   "source": [
    "sns.displot(data=df.loc[df['revol_bal']<250000], x='revol_bal', hue='loan_status', multiple='dodge', aspect=3)"
   ]
  },
  {
   "cell_type": "code",
   "execution_count": 101,
   "id": "1dd5194d-e49d-423e-abf6-da1daf7361a9",
   "metadata": {},
   "outputs": [
    {
     "data": {
      "text/plain": [
       "<seaborn.axisgrid.FacetGrid at 0x7fe7aeefb310>"
      ]
     },
     "execution_count": 101,
     "metadata": {},
     "output_type": "execute_result"
    },
    {
     "data": {
      "image/png": "[encoded data removed]",
      "text/plain": [
       "<Figure size 1176.38x360 with 1 Axes>"
      ]
     },
     "metadata": {},
     "output_type": "display_data"
    }
   ],
   "source": [
    "sns.displot(data=df.loc[(df['revol_bal']>50000)&(df['revol_bal']<250000)], x='revol_bal', hue='loan_status', multiple='dodge', aspect=3)"
   ]
  },
  {
   "cell_type": "markdown",
   "id": "4861fadb-25fc-4273-8e54-70a1a0940317",
   "metadata": {},
   "source": [
    "##### initial_list_status"
   ]
  },
  {
   "cell_type": "code",
   "execution_count": 102,
   "id": "8919c534-bc1a-4add-9f7b-977341e3cee0",
   "metadata": {},
   "outputs": [
    {
     "name": "stdout",
     "output_type": "stream",
     "text": [
      "The initial listing status of the loan. Possible values are – W, F\n"
     ]
    }
   ],
   "source": [
    "feat_info('initial_list_status')"
   ]
  },
  {
   "cell_type": "code",
   "execution_count": 103,
   "id": "b50a94ec-22c2-41a2-91a4-fd4837594c33",
   "metadata": {},
   "outputs": [
    {
     "data": {
      "text/plain": [
       "array(['w', 'f'], dtype=object)"
      ]
     },
     "execution_count": 103,
     "metadata": {},
     "output_type": "execute_result"
    }
   ],
   "source": [
    "df['initial_list_status'].unique()"
   ]
  },
  {
   "cell_type": "code",
   "execution_count": 104,
   "id": "efd1aa3c-7d29-4093-8dbc-4ad413aa888c",
   "metadata": {},
   "outputs": [
    {
     "data": {
      "text/plain": [
       "<AxesSubplot:xlabel='initial_list_status', ylabel='count'>"
      ]
     },
     "execution_count": 104,
     "metadata": {},
     "output_type": "execute_result"
    },
    {
     "data": {
      "image/png": "[encoded data removed]",
      "text/plain": [
       "<Figure size 432x288 with 1 Axes>"
      ]
     },
     "metadata": {},
     "output_type": "display_data"
    }
   ],
   "source": [
    "sns.countplot(data=df, x='initial_list_status', hue='loan_status')"
   ]
  },
  {
   "cell_type": "markdown",
   "id": "74c1723a-2fc3-4196-9d53-f0c4f1cf13a3",
   "metadata": {},
   "source": [
    "##### application_type"
   ]
  },
  {
   "cell_type": "code",
   "execution_count": 105,
   "id": "6a5f2b5a-2d6f-4300-a813-94098a7e3b4c",
   "metadata": {},
   "outputs": [
    {
     "name": "stdout",
     "output_type": "stream",
     "text": [
      "Indicates whether the loan is an individual application or a joint application with two co-borrowers\n"
     ]
    }
   ],
   "source": [
    "feat_info('application_type')"
   ]
  },
  {
   "cell_type": "code",
   "execution_count": 106,
   "id": "1e3cabc4-2709-4fbd-81b8-bfbb1efa9f0c",
   "metadata": {},
   "outputs": [
    {
     "data": {
      "text/plain": [
       "array(['INDIVIDUAL', 'JOINT', 'DIRECT_PAY'], dtype=object)"
      ]
     },
     "execution_count": 106,
     "metadata": {},
     "output_type": "execute_result"
    }
   ],
   "source": [
    "df['application_type'].unique()"
   ]
  },
  {
   "cell_type": "code",
   "execution_count": 107,
   "id": "5998fe63-302f-478a-8984-ea74f8a15e75",
   "metadata": {},
   "outputs": [
    {
     "data": {
      "text/plain": [
       "<AxesSubplot:xlabel='application_type', ylabel='count'>"
      ]
     },
     "execution_count": 107,
     "metadata": {},
     "output_type": "execute_result"
    },
    {
     "data": {
      "image/png": "[encoded data removed]",
      "text/plain": [
       "<Figure size 432x288 with 1 Axes>"
      ]
     },
     "metadata": {},
     "output_type": "display_data"
    }
   ],
   "source": [
    "sns.countplot(data=df, x='application_type')\n",
    "\n",
    "# we can drop this column"
   ]
  },
  {
   "cell_type": "code",
   "execution_count": 108,
   "id": "cabc9b68-50f8-4cf1-a637-f2b597e1b8d1",
   "metadata": {},
   "outputs": [],
   "source": [
    "df.drop('application_type', axis=1, inplace=True)"
   ]
  },
  {
   "cell_type": "markdown",
   "id": "a6e10318-b1e4-4766-931e-81bf4036c3aa",
   "metadata": {},
   "source": [
    "##### address"
   ]
  },
  {
   "cell_type": "code",
   "execution_count": 109,
   "id": "c812ace2-b4e4-4c45-9e41-defec0cb3ed6",
   "metadata": {},
   "outputs": [
    {
     "data": {
      "text/plain": [
       "0              0174 Michelle Gateway\\nMendozaberg, OK 22690\n",
       "1           1076 Carney Fort Apt. 347\\nLoganmouth, SD 05113\n",
       "2           87025 Mark Dale Apt. 269\\nNew Sabrina, WV 05113\n",
       "3                     823 Reid Ford\\nDelacruzside, MA 00813\n",
       "4                      679 Luna Roads\\nGreggshire, VA 11650\n",
       "                                ...                        \n",
       "396025       12951 Williams Crossing\\nJohnnyville, DC 30723\n",
       "396026    0114 Fowler Field Suite 028\\nRachelborough, LA...\n",
       "396027     953 Matthew Points Suite 414\\nReedfort, NY 70466\n",
       "396028    7843 Blake Freeway Apt. 229\\nNew Michael, FL 2...\n",
       "396029          787 Michelle Causeway\\nBriannaton, AR 48052\n",
       "Name: address, Length: 393465, dtype: object"
      ]
     },
     "execution_count": 109,
     "metadata": {},
     "output_type": "execute_result"
    }
   ],
   "source": [
    "df['address']\n",
    "\n",
    "# let's use the zip code of the address and drop the address column"
   ]
  },
  {
   "cell_type": "code",
   "execution_count": 110,
   "id": "a1315a9d-268a-4de1-8330-5e01d43cab9d",
   "metadata": {},
   "outputs": [],
   "source": [
    "df['zip_code'] = df['address'].apply(lambda address:address[-5:])\n",
    "df.drop('address', axis=1, inplace=True)"
   ]
  },
  {
   "cell_type": "code",
   "execution_count": 111,
   "id": "a4676abc-36e2-4e4d-ac31-3805eb4d81b9",
   "metadata": {},
   "outputs": [],
   "source": [
    "# we created a column status to use as label, so we'll drop the loan_status\n",
    "\n",
    "df.drop('loan_status', axis=1, inplace=True)"
   ]
  },
  {
   "cell_type": "code",
   "execution_count": 112,
   "id": "d654169b-a613-451b-a349-e20ce8120ebd",
   "metadata": {},
   "outputs": [
    {
     "data": {
      "text/plain": [
       "Index(['loan_amnt', 'term', 'int_rate', 'installment', 'sub_grade',\n",
       "       'home_ownership', 'annual_inc', 'verification_status', 'purpose', 'dti',\n",
       "       'open_acc', 'pub_rec', 'revol_bal', 'revol_util', 'total_acc',\n",
       "       'initial_list_status', 'mort_acc', 'pub_rec_bankruptcies', 'status',\n",
       "       'earliest_cr_year', 'zip_code'],\n",
       "      dtype='object')"
      ]
     },
     "execution_count": 112,
     "metadata": {},
     "output_type": "execute_result"
    }
   ],
   "source": [
    "df.columns"
   ]
  },
  {
   "cell_type": "code",
   "execution_count": 113,
   "id": "1cd59078-e242-4219-ab92-d96d09ffe643",
   "metadata": {},
   "outputs": [
    {
     "data": {
      "text/plain": [
       "sub_grade                        sub_grade\n",
       "home_ownership              home_ownership\n",
       "verification_status    verification_status\n",
       "purpose                            purpose\n",
       "initial_list_status    initial_list_status\n",
       "zip_code                          zip_code\n",
       "Name: nomes, dtype: object"
      ]
     },
     "execution_count": 113,
     "metadata": {},
     "output_type": "execute_result"
    }
   ],
   "source": [
    "df_info = pd.DataFrame({'nomes' : df.columns, 'tipos' : df.dtypes,\n",
    "                           'NA #': df.isna().sum(), 'NA %' : (df.isna().sum() / df.shape[0]) * 100})\n",
    "df_info.loc[df_info['tipos']=='object']['nomes']"
   ]
  },
  {
   "cell_type": "markdown",
   "id": "acedc13f-ebbd-4e09-8e75-c208b2ab1928",
   "metadata": {},
   "source": [
    "## Encoding"
   ]
  },
  {
   "cell_type": "code",
   "execution_count": 114,
   "id": "a36ca922-0102-4f9f-ad2c-71ab629188b4",
   "metadata": {},
   "outputs": [
    {
     "data": {
      "text/html": [
       "<div>\n",
       "<style scoped>\n",
       "    .dataframe tbody tr th:only-of-type {\n",
       "        vertical-align: middle;\n",
       "    }\n",
       "\n",
       "    .dataframe tbody tr th {\n",
       "        vertical-align: top;\n",
       "    }\n",
       "\n",
       "    .dataframe thead th {\n",
       "        text-align: right;\n",
       "    }\n",
       "</style>\n",
       "<table border=\"1\" class=\"dataframe\">\n",
       "  <thead>\n",
       "    <tr style=\"text-align: right;\">\n",
       "      <th></th>\n",
       "      <th>term</th>\n",
       "      <th>sub_grade</th>\n",
       "      <th>home_ownership</th>\n",
       "      <th>verification_status</th>\n",
       "      <th>purpose</th>\n",
       "      <th>initial_list_status</th>\n",
       "      <th>zip_code</th>\n",
       "    </tr>\n",
       "  </thead>\n",
       "  <tbody>\n",
       "    <tr>\n",
       "      <th>0</th>\n",
       "      <td>36</td>\n",
       "      <td>B4</td>\n",
       "      <td>RENT</td>\n",
       "      <td>Not Verified</td>\n",
       "      <td>vacation</td>\n",
       "      <td>w</td>\n",
       "      <td>22690</td>\n",
       "    </tr>\n",
       "    <tr>\n",
       "      <th>1</th>\n",
       "      <td>36</td>\n",
       "      <td>B5</td>\n",
       "      <td>MORTGAGE</td>\n",
       "      <td>Not Verified</td>\n",
       "      <td>debt_consolidation</td>\n",
       "      <td>f</td>\n",
       "      <td>05113</td>\n",
       "    </tr>\n",
       "    <tr>\n",
       "      <th>2</th>\n",
       "      <td>36</td>\n",
       "      <td>B3</td>\n",
       "      <td>RENT</td>\n",
       "      <td>Source Verified</td>\n",
       "      <td>credit_card</td>\n",
       "      <td>f</td>\n",
       "      <td>05113</td>\n",
       "    </tr>\n",
       "    <tr>\n",
       "      <th>3</th>\n",
       "      <td>36</td>\n",
       "      <td>A2</td>\n",
       "      <td>RENT</td>\n",
       "      <td>Not Verified</td>\n",
       "      <td>credit_card</td>\n",
       "      <td>f</td>\n",
       "      <td>00813</td>\n",
       "    </tr>\n",
       "    <tr>\n",
       "      <th>4</th>\n",
       "      <td>60</td>\n",
       "      <td>C5</td>\n",
       "      <td>MORTGAGE</td>\n",
       "      <td>Verified</td>\n",
       "      <td>credit_card</td>\n",
       "      <td>f</td>\n",
       "      <td>11650</td>\n",
       "    </tr>\n",
       "    <tr>\n",
       "      <th>...</th>\n",
       "      <td>...</td>\n",
       "      <td>...</td>\n",
       "      <td>...</td>\n",
       "      <td>...</td>\n",
       "      <td>...</td>\n",
       "      <td>...</td>\n",
       "      <td>...</td>\n",
       "    </tr>\n",
       "    <tr>\n",
       "      <th>396025</th>\n",
       "      <td>60</td>\n",
       "      <td>B4</td>\n",
       "      <td>RENT</td>\n",
       "      <td>Source Verified</td>\n",
       "      <td>debt_consolidation</td>\n",
       "      <td>w</td>\n",
       "      <td>30723</td>\n",
       "    </tr>\n",
       "    <tr>\n",
       "      <th>396026</th>\n",
       "      <td>36</td>\n",
       "      <td>C1</td>\n",
       "      <td>MORTGAGE</td>\n",
       "      <td>Source Verified</td>\n",
       "      <td>debt_consolidation</td>\n",
       "      <td>f</td>\n",
       "      <td>05113</td>\n",
       "    </tr>\n",
       "    <tr>\n",
       "      <th>396027</th>\n",
       "      <td>36</td>\n",
       "      <td>B1</td>\n",
       "      <td>RENT</td>\n",
       "      <td>Verified</td>\n",
       "      <td>debt_consolidation</td>\n",
       "      <td>f</td>\n",
       "      <td>70466</td>\n",
       "    </tr>\n",
       "    <tr>\n",
       "      <th>396028</th>\n",
       "      <td>60</td>\n",
       "      <td>C2</td>\n",
       "      <td>MORTGAGE</td>\n",
       "      <td>Verified</td>\n",
       "      <td>debt_consolidation</td>\n",
       "      <td>f</td>\n",
       "      <td>29597</td>\n",
       "    </tr>\n",
       "    <tr>\n",
       "      <th>396029</th>\n",
       "      <td>36</td>\n",
       "      <td>C2</td>\n",
       "      <td>RENT</td>\n",
       "      <td>Verified</td>\n",
       "      <td>debt_consolidation</td>\n",
       "      <td>f</td>\n",
       "      <td>48052</td>\n",
       "    </tr>\n",
       "  </tbody>\n",
       "</table>\n",
       "<p>393465 rows × 7 columns</p>\n",
       "</div>"
      ],
      "text/plain": [
       "        term sub_grade home_ownership verification_status             purpose  \\\n",
       "0         36        B4           RENT        Not Verified            vacation   \n",
       "1         36        B5       MORTGAGE        Not Verified  debt_consolidation   \n",
       "2         36        B3           RENT     Source Verified         credit_card   \n",
       "3         36        A2           RENT        Not Verified         credit_card   \n",
       "4         60        C5       MORTGAGE            Verified         credit_card   \n",
       "...      ...       ...            ...                 ...                 ...   \n",
       "396025    60        B4           RENT     Source Verified  debt_consolidation   \n",
       "396026    36        C1       MORTGAGE     Source Verified  debt_consolidation   \n",
       "396027    36        B1           RENT            Verified  debt_consolidation   \n",
       "396028    60        C2       MORTGAGE            Verified  debt_consolidation   \n",
       "396029    36        C2           RENT            Verified  debt_consolidation   \n",
       "\n",
       "       initial_list_status zip_code  \n",
       "0                        w    22690  \n",
       "1                        f    05113  \n",
       "2                        f    05113  \n",
       "3                        f    00813  \n",
       "4                        f    11650  \n",
       "...                    ...      ...  \n",
       "396025                   w    30723  \n",
       "396026                   f    05113  \n",
       "396027                   f    70466  \n",
       "396028                   f    29597  \n",
       "396029                   f    48052  \n",
       "\n",
       "[393465 rows x 7 columns]"
      ]
     },
     "execution_count": 114,
     "metadata": {},
     "output_type": "execute_result"
    }
   ],
   "source": [
    "df[['term', 'sub_grade', 'home_ownership', 'verification_status', 'purpose', 'initial_list_status', 'zip_code']]"
   ]
  },
  {
   "cell_type": "code",
   "execution_count": 115,
   "id": "c1cf19f5-65fe-4751-940c-cad83dd852de",
   "metadata": {},
   "outputs": [],
   "source": [
    "# transforming categorical features into dummy variables\n",
    "\n",
    "dummies = pd.get_dummies(df[['term', 'sub_grade', 'home_ownership', 'verification_status', 'purpose', 'initial_list_status', 'zip_code']], drop_first=True)"
   ]
  },
  {
   "cell_type": "code",
   "execution_count": 116,
   "id": "86cd1fba-e190-4cf2-8fa8-3433eff99084",
   "metadata": {},
   "outputs": [],
   "source": [
    "# drop columns we turn to dummies and concat the data\n",
    "\n",
    "df.drop(['term', 'sub_grade', 'home_ownership', 'verification_status', 'purpose', 'initial_list_status', 'zip_code'], axis=1, inplace=True)"
   ]
  },
  {
   "cell_type": "code",
   "execution_count": 117,
   "id": "270cab12-2f8b-4aff-9298-3b9305a6ad64",
   "metadata": {},
   "outputs": [],
   "source": [
    "df_final = pd.concat([df, dummies], axis=1)"
   ]
  },
  {
   "cell_type": "code",
   "execution_count": 118,
   "id": "8e6a3801-a85b-426b-85c4-69a9fbb43678",
   "metadata": {},
   "outputs": [
    {
     "data": {
      "text/plain": [
       "(393465, 77)"
      ]
     },
     "execution_count": 118,
     "metadata": {},
     "output_type": "execute_result"
    }
   ],
   "source": [
    "df_final.shape"
   ]
  },
  {
   "cell_type": "code",
   "execution_count": null,
   "id": "ffacc011-fe8a-4e70-b1b1-9f656963d739",
   "metadata": {},
   "outputs": [],
   "source": []
  },
  {
   "cell_type": "markdown",
   "id": "fc551448-c43f-4bba-aabf-90e05627c68f",
   "metadata": {},
   "source": [
    "___\n",
    "# Splitting and Normalizing"
   ]
  },
  {
   "cell_type": "code",
   "execution_count": 119,
   "id": "a3b01b81-a9b6-486b-97d4-1001be341220",
   "metadata": {},
   "outputs": [],
   "source": [
    "from sklearn.model_selection import train_test_split"
   ]
  },
  {
   "cell_type": "code",
   "execution_count": 120,
   "id": "a02a4b84-8be1-4e82-88cc-87cfc2c98698",
   "metadata": {},
   "outputs": [],
   "source": [
    "X = df_final.drop('status', axis=1).values"
   ]
  },
  {
   "cell_type": "code",
   "execution_count": 121,
   "id": "e40b9edd-f775-4fcb-8d1f-ea25a0632e53",
   "metadata": {},
   "outputs": [],
   "source": [
    "y = df_final['status'].values"
   ]
  },
  {
   "cell_type": "code",
   "execution_count": 122,
   "id": "4680f82b-bad9-44f8-955a-651b1c37ec44",
   "metadata": {},
   "outputs": [],
   "source": [
    "X_train, X_test, y_train, y_test = train_test_split(X, y, test_size=0.33, random_state=42)"
   ]
  },
  {
   "cell_type": "markdown",
   "id": "f8c4c576-0261-456d-b33f-3ff939f5081d",
   "metadata": {},
   "source": [
    "___\n",
    "# Normalizing"
   ]
  },
  {
   "cell_type": "code",
   "execution_count": 123,
   "id": "7e1d0751-f774-4a31-a20f-9e2d1e7b95a5",
   "metadata": {},
   "outputs": [],
   "source": [
    "from sklearn.preprocessing import MinMaxScaler"
   ]
  },
  {
   "cell_type": "code",
   "execution_count": 124,
   "id": "609ce857-d7b4-4eb4-a3d5-399bb4183e66",
   "metadata": {},
   "outputs": [],
   "source": [
    "scaler = MinMaxScaler()\n",
    "\n",
    "scaler.fit(X_train)\n",
    "\n",
    "X_train = scaler.transform(X_train)\n",
    "X_test = scaler.transform(X_test)"
   ]
  },
  {
   "cell_type": "markdown",
   "id": "0de79750-d018-4353-be56-3c02b4cfa491",
   "metadata": {},
   "source": [
    "___\n",
    "# Building the Model"
   ]
  },
  {
   "cell_type": "code",
   "execution_count": 125,
   "id": "1565d4e0-8db3-4b1b-aa5a-af24be7e477b",
   "metadata": {},
   "outputs": [],
   "source": [
    "import tensorflow as tf\n",
    "from tensorflow.keras.models import Sequential\n",
    "from tensorflow.keras.layers import Dense, Activation,Dropout\n",
    "from tensorflow.keras.callbacks import EarlyStopping"
   ]
  },
  {
   "cell_type": "code",
   "execution_count": 126,
   "id": "c542e16a-2dc5-4357-8b18-025cf4468f3a",
   "metadata": {},
   "outputs": [],
   "source": [
    "model = Sequential()\n",
    "\n",
    "model = Sequential()\n",
    "model.add(Dense(units=77,activation='relu'))\n",
    "model.add(Dropout(0.2))\n",
    "\n",
    "model.add(Dense(units=38,activation='relu'))\n",
    "model.add(Dropout(0.2))\n",
    "\n",
    "model.add(Dense(units=1,activation='sigmoid'))\n",
    "model.compile(loss='binary_crossentropy', optimizer='adam')\n",
    "\n",
    "early_stop = EarlyStopping(monitor='val_loss', mode='min', verbose=1, patience=25) # defining the variable"
   ]
  },
  {
   "cell_type": "code",
   "execution_count": 127,
   "id": "d105e39a-e60f-4386-a9f6-551a7dd8d310",
   "metadata": {},
   "outputs": [
    {
     "name": "stdout",
     "output_type": "stream",
     "text": [
      "Epoch 1/100\n",
      "1030/1030 [==============================] - 4s 3ms/step - loss: 0.3033 - val_loss: 0.2672\n",
      "Epoch 2/100\n",
      "1030/1030 [==============================] - 3s 3ms/step - loss: 0.2650 - val_loss: 0.2645\n",
      "Epoch 3/100\n",
      "1030/1030 [==============================] - 4s 4ms/step - loss: 0.2625 - val_loss: 0.2632\n",
      "Epoch 4/100\n",
      "1030/1030 [==============================] - 4s 4ms/step - loss: 0.2610 - val_loss: 0.2626\n",
      "Epoch 5/100\n",
      "1030/1030 [==============================] - 5s 5ms/step - loss: 0.2601 - val_loss: 0.2624\n",
      "Epoch 6/100\n",
      "1030/1030 [==============================] - 3s 3ms/step - loss: 0.2598 - val_loss: 0.2622\n",
      "Epoch 7/100\n",
      "1030/1030 [==============================] - 3s 3ms/step - loss: 0.2589 - val_loss: 0.2621\n",
      "Epoch 8/100\n",
      "1030/1030 [==============================] - 3s 3ms/step - loss: 0.2585 - val_loss: 0.2617\n",
      "Epoch 9/100\n",
      "1030/1030 [==============================] - 3s 3ms/step - loss: 0.2582 - val_loss: 0.2619\n",
      "Epoch 10/100\n",
      "1030/1030 [==============================] - 2s 2ms/step - loss: 0.2577 - val_loss: 0.2616\n",
      "Epoch 11/100\n",
      "1030/1030 [==============================] - 2s 2ms/step - loss: 0.2574 - val_loss: 0.2622\n",
      "Epoch 12/100\n",
      "1030/1030 [==============================] - 2s 2ms/step - loss: 0.2571 - val_loss: 0.2619\n",
      "Epoch 13/100\n",
      "1030/1030 [==============================] - 2s 2ms/step - loss: 0.2569 - val_loss: 0.2617\n",
      "Epoch 14/100\n",
      "1030/1030 [==============================] - 8s 8ms/step - loss: 0.2566 - val_loss: 0.2616\n",
      "Epoch 15/100\n",
      "1030/1030 [==============================] - 5s 4ms/step - loss: 0.2563 - val_loss: 0.2617\n",
      "Epoch 16/100\n",
      "1030/1030 [==============================] - 4s 4ms/step - loss: 0.2560 - val_loss: 0.2620\n",
      "Epoch 17/100\n",
      "1030/1030 [==============================] - 6s 6ms/step - loss: 0.2560 - val_loss: 0.2610\n",
      "Epoch 18/100\n",
      "1030/1030 [==============================] - 9s 8ms/step - loss: 0.2557 - val_loss: 0.2617\n",
      "Epoch 19/100\n",
      "1030/1030 [==============================] - 4s 4ms/step - loss: 0.2555 - val_loss: 0.2617\n",
      "Epoch 20/100\n",
      "1030/1030 [==============================] - 3s 3ms/step - loss: 0.2553 - val_loss: 0.2618\n",
      "Epoch 21/100\n",
      "1030/1030 [==============================] - 3s 3ms/step - loss: 0.2551 - val_loss: 0.2615\n",
      "Epoch 22/100\n",
      "1030/1030 [==============================] - 4s 4ms/step - loss: 0.2551 - val_loss: 0.2616\n",
      "Epoch 23/100\n",
      "1030/1030 [==============================] - 4s 4ms/step - loss: 0.2548 - val_loss: 0.2619\n",
      "Epoch 24/100\n",
      "1030/1030 [==============================] - 3s 3ms/step - loss: 0.2547 - val_loss: 0.2622\n",
      "Epoch 25/100\n",
      "1030/1030 [==============================] - 5s 4ms/step - loss: 0.2544 - val_loss: 0.2618\n",
      "Epoch 26/100\n",
      "1030/1030 [==============================] - 4s 4ms/step - loss: 0.2543 - val_loss: 0.2615\n",
      "Epoch 27/100\n",
      "1030/1030 [==============================] - 4s 4ms/step - loss: 0.2540 - val_loss: 0.2615\n",
      "Epoch 28/100\n",
      "1030/1030 [==============================] - 2s 2ms/step - loss: 0.2538 - val_loss: 0.2622\n",
      "Epoch 29/100\n",
      "1030/1030 [==============================] - 3s 3ms/step - loss: 0.2539 - val_loss: 0.2617\n",
      "Epoch 30/100\n",
      "1030/1030 [==============================] - 3s 2ms/step - loss: 0.2537 - val_loss: 0.2612\n",
      "Epoch 31/100\n",
      "1030/1030 [==============================] - 4s 4ms/step - loss: 0.2537 - val_loss: 0.2621\n",
      "Epoch 32/100\n",
      "1030/1030 [==============================] - 6s 6ms/step - loss: 0.2532 - val_loss: 0.2620\n",
      "Epoch 33/100\n",
      "1030/1030 [==============================] - 4s 3ms/step - loss: 0.2533 - val_loss: 0.2619\n",
      "Epoch 34/100\n",
      "1030/1030 [==============================] - 4s 4ms/step - loss: 0.2527 - val_loss: 0.2615\n",
      "Epoch 35/100\n",
      "1030/1030 [==============================] - 3s 3ms/step - loss: 0.2528 - val_loss: 0.2621\n",
      "Epoch 36/100\n",
      "1030/1030 [==============================] - 3s 3ms/step - loss: 0.2529 - val_loss: 0.2617\n",
      "Epoch 37/100\n",
      "1030/1030 [==============================] - 3s 3ms/step - loss: 0.2527 - val_loss: 0.2621\n",
      "Epoch 38/100\n",
      "1030/1030 [==============================] - 3s 3ms/step - loss: 0.2526 - val_loss: 0.2616\n",
      "Epoch 39/100\n",
      "1030/1030 [==============================] - 3s 3ms/step - loss: 0.2524 - val_loss: 0.2616\n",
      "Epoch 40/100\n",
      "1030/1030 [==============================] - 3s 3ms/step - loss: 0.2523 - val_loss: 0.2620\n",
      "Epoch 41/100\n",
      "1030/1030 [==============================] - 2s 2ms/step - loss: 0.2523 - val_loss: 0.2618\n",
      "Epoch 42/100\n",
      "1030/1030 [==============================] - 2s 2ms/step - loss: 0.2522 - val_loss: 0.2632\n",
      "Epoch 00042: early stopping\n"
     ]
    },
    {
     "data": {
      "text/plain": [
       "<tensorflow.python.keras.callbacks.History at 0x7fe74c413910>"
      ]
     },
     "execution_count": 127,
     "metadata": {},
     "output_type": "execute_result"
    }
   ],
   "source": [
    "model.fit(x=X_train, \n",
    "          y=y_train, \n",
    "          epochs=100,\n",
    "          batch_size=256,\n",
    "          validation_data=(X_test, y_test), \n",
    "          verbose=1,\n",
    "          callbacks=[early_stop]\n",
    "          )"
   ]
  },
  {
   "cell_type": "code",
   "execution_count": 128,
   "id": "3d21f31b-e2c6-4bb3-aa1e-70e0fdd767c6",
   "metadata": {},
   "outputs": [
    {
     "data": {
      "text/plain": [
       "<AxesSubplot:>"
      ]
     },
     "execution_count": 128,
     "metadata": {},
     "output_type": "execute_result"
    },
    {
     "data": {
      "image/png": "[encoded data removed]",
      "text/plain": [
       "<Figure size 432x288 with 1 Axes>"
      ]
     },
     "metadata": {},
     "output_type": "display_data"
    }
   ],
   "source": [
    "model_loss = pd.DataFrame(model.history.history)\n",
    "model_loss.plot()"
   ]
  },
  {
   "cell_type": "code",
   "execution_count": 129,
   "id": "74e4461e-537f-4b70-846c-a42fd81c9bf2",
   "metadata": {},
   "outputs": [
    {
     "name": "stdout",
     "output_type": "stream",
     "text": [
      "              precision    recall  f1-score   support\n",
      "\n",
      "           0       0.97      0.44      0.61     25668\n",
      "           1       0.88      1.00      0.93    104176\n",
      "\n",
      "    accuracy                           0.89    129844\n",
      "   macro avg       0.92      0.72      0.77    129844\n",
      "weighted avg       0.90      0.89      0.87    129844\n",
      "\n",
      "[[ 11357  14311]\n",
      " [   379 103797]]\n"
     ]
    }
   ],
   "source": [
    "predictions = (model.predict(X_test) > 0.5).astype(\"int32\")\n",
    "\n",
    "from sklearn.metrics import classification_report,confusion_matrix\n",
    "\n",
    "# https://en.wikipedia.org/wiki/Precision_and_recall\n",
    "print(classification_report(y_test,predictions))\n",
    "\n",
    "print(confusion_matrix(y_test,predictions))"
   ]
  },
  {
   "cell_type": "code",
   "execution_count": 130,
   "id": "8d020fb3-d01f-4a9d-b340-c6f143b44cf1",
   "metadata": {},
   "outputs": [
    {
     "data": {
      "text/plain": [
       "array([[ 11357,  14311],\n",
       "       [   379, 103797]])"
      ]
     },
     "execution_count": 130,
     "metadata": {},
     "output_type": "execute_result"
    }
   ],
   "source": [
    "confusion_matrix(y_test,predictions)"
   ]
  }
 ],
 "metadata": {
  "kernelspec": {
   "display_name": "udemy",
   "language": "python",
   "name": "udemy"
  },
  "language_info": {
   "codemirror_mode": {
    "name": "ipython",
    "version": 3
   },
   "file_extension": ".py",
   "mimetype": "text/x-python",
   "name": "python",
   "nbconvert_exporter": "python",
   "pygments_lexer": "ipython3",
   "version": "3.8.5"
  }
 },
 "nbformat": 4,
 "nbformat_minor": 5
}
